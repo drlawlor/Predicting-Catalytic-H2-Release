{
 "cells": [
  {
   "cell_type": "markdown",
   "metadata": {},
   "source": [
    "# Predicting H2 Equivalence and Reaction Time in Catalytic H2 Release"
   ]
  },
  {
   "cell_type": "markdown",
   "metadata": {},
   "source": [
    "## Introduction"
   ]
  },
  {
   "cell_type": "markdown",
   "metadata": {},
   "source": [
    "This data set is taken from some of the research carried out during my Ph.D in chemistry. It details the various reaction conditions used in the catalytic release of hydrogen as an alternative and more environmentally friendly fuel source. While this research gave promising results, the reaction conditions require further optimisation, which means countless more experiments and time spent in the laboratory, changing one small reaction parameter at a time. Machine learning negates the need for this lengthy process and is therefore an ideal tool for assisting in such chemical problems. It has recently been utilised in predicting reaction times and conditions in very specific types of chemical reactions. It was my desire to apply machine learning to this particular data set and analyse its performance in this topical area of chemistry. By learning from such a data set, the ultimate goal is to be able to input the chemical structure of a catalyst and for the computer to return the various reaction conditions required for an optimal reaction. This notebook is my first attempt at machine learning and reports my inital findings using the open source library fastai, which will be further built on in the coming months.              "
   ]
  },
  {
   "cell_type": "markdown",
   "metadata": {},
   "source": [
    "## Data Manipulation"
   ]
  },
  {
   "cell_type": "markdown",
   "metadata": {},
   "source": [
    "### Loading Libraries and Data File"
   ]
  },
  {
   "cell_type": "code",
   "execution_count": 1,
   "metadata": {},
   "outputs": [],
   "source": [
    "import pandas as pd\n",
    "\n",
    "from fastai import *\n",
    "from fastai.tabular import *\n",
    "\n",
    "from sklearn.model_selection import train_test_split"
   ]
  },
  {
   "cell_type": "code",
   "execution_count": 2,
   "metadata": {},
   "outputs": [
    {
     "name": "stdout",
     "output_type": "stream",
     "text": [
      "(250, 19)\n"
     ]
    },
    {
     "data": {
      "text/html": [
       "<div>\n",
       "<style scoped>\n",
       "    .dataframe tbody tr th:only-of-type {\n",
       "        vertical-align: middle;\n",
       "    }\n",
       "\n",
       "    .dataframe tbody tr th {\n",
       "        vertical-align: top;\n",
       "    }\n",
       "\n",
       "    .dataframe thead th {\n",
       "        text-align: right;\n",
       "    }\n",
       "</style>\n",
       "<table border=\"1\" class=\"dataframe\">\n",
       "  <thead>\n",
       "    <tr style=\"text-align: right;\">\n",
       "      <th></th>\n",
       "      <th>Reaction</th>\n",
       "      <th>Code</th>\n",
       "      <th>MF</th>\n",
       "      <th>MW</th>\n",
       "      <th>Mol Catalyst</th>\n",
       "      <th>SMILES (Ligand)</th>\n",
       "      <th>Solvent Volume (mL)</th>\n",
       "      <th>Catalyst Percentage (%)</th>\n",
       "      <th>Substrate</th>\n",
       "      <th>Substrate Weight (g)</th>\n",
       "      <th>MF.1</th>\n",
       "      <th>SMILES (Substrate)</th>\n",
       "      <th>Mol Substrate</th>\n",
       "      <th>Temperature ©</th>\n",
       "      <th>Solvent</th>\n",
       "      <th>MF.2</th>\n",
       "      <th>SMILES (Solvent)</th>\n",
       "      <th>Time (hr)</th>\n",
       "      <th>H2 Equivalence</th>\n",
       "    </tr>\n",
       "  </thead>\n",
       "  <tbody>\n",
       "    <tr>\n",
       "      <th>0</th>\n",
       "      <td>PR Old</td>\n",
       "      <td>DS20_RuOTf</td>\n",
       "      <td>C28H31N2O3SF3Ru</td>\n",
       "      <td>633.69</td>\n",
       "      <td>0.00016197</td>\n",
       "      <td>C/C(NC1=C(C)C=CC=C1C)=C/C(C)=NC2=C(C)C=CC=C2C</td>\n",
       "      <td>10</td>\n",
       "      <td>0.5</td>\n",
       "      <td>AB</td>\n",
       "      <td>1.0</td>\n",
       "      <td>BH6N</td>\n",
       "      <td>[BH3-][NH3+]</td>\n",
       "      <td>0.032394</td>\n",
       "      <td>22</td>\n",
       "      <td>THF</td>\n",
       "      <td>C4H8O</td>\n",
       "      <td>C1CCOC1</td>\n",
       "      <td>60.0</td>\n",
       "      <td>1.10</td>\n",
       "    </tr>\n",
       "    <tr>\n",
       "      <th>1</th>\n",
       "      <td>PR Old</td>\n",
       "      <td>None</td>\n",
       "      <td>None</td>\n",
       "      <td>None</td>\n",
       "      <td>None</td>\n",
       "      <td>None</td>\n",
       "      <td>10</td>\n",
       "      <td>None</td>\n",
       "      <td>AB</td>\n",
       "      <td>1.0</td>\n",
       "      <td>BH6N</td>\n",
       "      <td>[BH3-][NH3+]</td>\n",
       "      <td>0.032394</td>\n",
       "      <td>22</td>\n",
       "      <td>THF</td>\n",
       "      <td>C4H8O</td>\n",
       "      <td>C1CCOC1</td>\n",
       "      <td>60.0</td>\n",
       "      <td>0.07</td>\n",
       "    </tr>\n",
       "    <tr>\n",
       "      <th>2</th>\n",
       "      <td>PR Old</td>\n",
       "      <td>DS20_RuOTf</td>\n",
       "      <td>C28H31N2O3SF3Ru</td>\n",
       "      <td>633.69</td>\n",
       "      <td>0.00016197</td>\n",
       "      <td>C/C(NC1=C(C)C=CC=C1C)=C/C(C)=NC2=C(C)C=CC=C2C</td>\n",
       "      <td>10</td>\n",
       "      <td>0.5</td>\n",
       "      <td>AB</td>\n",
       "      <td>1.0</td>\n",
       "      <td>BH6N</td>\n",
       "      <td>[BH3-][NH3+]</td>\n",
       "      <td>0.032394</td>\n",
       "      <td>42</td>\n",
       "      <td>THF</td>\n",
       "      <td>C4H8O</td>\n",
       "      <td>C1CCOC1</td>\n",
       "      <td>6.0</td>\n",
       "      <td>1.20</td>\n",
       "    </tr>\n",
       "    <tr>\n",
       "      <th>3</th>\n",
       "      <td>PR Old</td>\n",
       "      <td>None</td>\n",
       "      <td>None</td>\n",
       "      <td>None</td>\n",
       "      <td>None</td>\n",
       "      <td>None</td>\n",
       "      <td>10</td>\n",
       "      <td>None</td>\n",
       "      <td>AB</td>\n",
       "      <td>1.0</td>\n",
       "      <td>BH6N</td>\n",
       "      <td>[BH3-][NH3+]</td>\n",
       "      <td>0.032394</td>\n",
       "      <td>42</td>\n",
       "      <td>THF</td>\n",
       "      <td>C4H8O</td>\n",
       "      <td>C1CCOC1</td>\n",
       "      <td>24.0</td>\n",
       "      <td>1.20</td>\n",
       "    </tr>\n",
       "    <tr>\n",
       "      <th>4</th>\n",
       "      <td>PR Old</td>\n",
       "      <td>None</td>\n",
       "      <td>None</td>\n",
       "      <td>None</td>\n",
       "      <td>None</td>\n",
       "      <td>None</td>\n",
       "      <td>10</td>\n",
       "      <td>None</td>\n",
       "      <td>AB</td>\n",
       "      <td>1.0</td>\n",
       "      <td>BH6N</td>\n",
       "      <td>[BH3-][NH3+]</td>\n",
       "      <td>0.032394</td>\n",
       "      <td>42</td>\n",
       "      <td>THF</td>\n",
       "      <td>C4H8O</td>\n",
       "      <td>C1CCOC1</td>\n",
       "      <td>60.0</td>\n",
       "      <td>1.30</td>\n",
       "    </tr>\n",
       "  </tbody>\n",
       "</table>\n",
       "</div>"
      ],
      "text/plain": [
       "  Reaction        Code               MF      MW Mol Catalyst  \\\n",
       "0   PR Old  DS20_RuOTf  C28H31N2O3SF3Ru  633.69   0.00016197   \n",
       "1   PR Old        None             None    None         None   \n",
       "2   PR Old  DS20_RuOTf  C28H31N2O3SF3Ru  633.69   0.00016197   \n",
       "3   PR Old        None             None    None         None   \n",
       "4   PR Old        None             None    None         None   \n",
       "\n",
       "                                 SMILES (Ligand) Solvent Volume (mL)  \\\n",
       "0  C/C(NC1=C(C)C=CC=C1C)=C/C(C)=NC2=C(C)C=CC=C2C                  10   \n",
       "1                                           None                  10   \n",
       "2  C/C(NC1=C(C)C=CC=C1C)=C/C(C)=NC2=C(C)C=CC=C2C                  10   \n",
       "3                                           None                  10   \n",
       "4                                           None                  10   \n",
       "\n",
       "  Catalyst Percentage (%) Substrate  Substrate Weight (g)  MF.1  \\\n",
       "0                     0.5        AB                   1.0  BH6N   \n",
       "1                    None        AB                   1.0  BH6N   \n",
       "2                     0.5        AB                   1.0  BH6N   \n",
       "3                    None        AB                   1.0  BH6N   \n",
       "4                    None        AB                   1.0  BH6N   \n",
       "\n",
       "  SMILES (Substrate)  Mol Substrate  Temperature © Solvent   MF.2  \\\n",
       "0       [BH3-][NH3+]       0.032394             22     THF  C4H8O   \n",
       "1       [BH3-][NH3+]       0.032394             22     THF  C4H8O   \n",
       "2       [BH3-][NH3+]       0.032394             42     THF  C4H8O   \n",
       "3       [BH3-][NH3+]       0.032394             42     THF  C4H8O   \n",
       "4       [BH3-][NH3+]       0.032394             42     THF  C4H8O   \n",
       "\n",
       "  SMILES (Solvent)  Time (hr)  H2 Equivalence  \n",
       "0          C1CCOC1       60.0            1.10  \n",
       "1          C1CCOC1       60.0            0.07  \n",
       "2          C1CCOC1        6.0            1.20  \n",
       "3          C1CCOC1       24.0            1.20  \n",
       "4          C1CCOC1       60.0            1.30  "
      ]
     },
     "execution_count": 2,
     "metadata": {},
     "output_type": "execute_result"
    }
   ],
   "source": [
    "df = pd.read_csv(\"Data/H2_Database2.csv\")\n",
    "print(df.shape)\n",
    "df.head()"
   ]
  },
  {
   "cell_type": "code",
   "execution_count": 3,
   "metadata": {},
   "outputs": [
    {
     "data": {
      "text/html": [
       "<div>\n",
       "<style scoped>\n",
       "    .dataframe tbody tr th:only-of-type {\n",
       "        vertical-align: middle;\n",
       "    }\n",
       "\n",
       "    .dataframe tbody tr th {\n",
       "        vertical-align: top;\n",
       "    }\n",
       "\n",
       "    .dataframe thead th {\n",
       "        text-align: right;\n",
       "    }\n",
       "</style>\n",
       "<table border=\"1\" class=\"dataframe\">\n",
       "  <thead>\n",
       "    <tr style=\"text-align: right;\">\n",
       "      <th></th>\n",
       "      <th>Code</th>\n",
       "      <th>MF</th>\n",
       "      <th>MW</th>\n",
       "      <th>Mol Catalyst</th>\n",
       "      <th>SMILES (Ligand)</th>\n",
       "      <th>Solvent Volume (mL)</th>\n",
       "      <th>Catalyst Percentage (%)</th>\n",
       "      <th>Substrate</th>\n",
       "      <th>Substrate Weight (g)</th>\n",
       "      <th>MF.1</th>\n",
       "      <th>SMILES (Substrate)</th>\n",
       "      <th>Mol Substrate</th>\n",
       "      <th>Temperature ©</th>\n",
       "      <th>Solvent</th>\n",
       "      <th>MF.2</th>\n",
       "      <th>SMILES (Solvent)</th>\n",
       "      <th>Time (hr)</th>\n",
       "      <th>H2 Equivalence</th>\n",
       "    </tr>\n",
       "  </thead>\n",
       "  <tbody>\n",
       "    <tr>\n",
       "      <th>0</th>\n",
       "      <td>DS20_RuOTf</td>\n",
       "      <td>C28H31N2O3SF3Ru</td>\n",
       "      <td>633.69</td>\n",
       "      <td>0.00016197</td>\n",
       "      <td>C/C(NC1=C(C)C=CC=C1C)=C/C(C)=NC2=C(C)C=CC=C2C</td>\n",
       "      <td>10</td>\n",
       "      <td>0.5</td>\n",
       "      <td>AB</td>\n",
       "      <td>1.0</td>\n",
       "      <td>BH6N</td>\n",
       "      <td>[BH3-][NH3+]</td>\n",
       "      <td>0.032394</td>\n",
       "      <td>22</td>\n",
       "      <td>THF</td>\n",
       "      <td>C4H8O</td>\n",
       "      <td>C1CCOC1</td>\n",
       "      <td>60.0</td>\n",
       "      <td>1.10</td>\n",
       "    </tr>\n",
       "    <tr>\n",
       "      <th>1</th>\n",
       "      <td>None</td>\n",
       "      <td>None</td>\n",
       "      <td>None</td>\n",
       "      <td>None</td>\n",
       "      <td>None</td>\n",
       "      <td>10</td>\n",
       "      <td>None</td>\n",
       "      <td>AB</td>\n",
       "      <td>1.0</td>\n",
       "      <td>BH6N</td>\n",
       "      <td>[BH3-][NH3+]</td>\n",
       "      <td>0.032394</td>\n",
       "      <td>22</td>\n",
       "      <td>THF</td>\n",
       "      <td>C4H8O</td>\n",
       "      <td>C1CCOC1</td>\n",
       "      <td>60.0</td>\n",
       "      <td>0.07</td>\n",
       "    </tr>\n",
       "    <tr>\n",
       "      <th>2</th>\n",
       "      <td>DS20_RuOTf</td>\n",
       "      <td>C28H31N2O3SF3Ru</td>\n",
       "      <td>633.69</td>\n",
       "      <td>0.00016197</td>\n",
       "      <td>C/C(NC1=C(C)C=CC=C1C)=C/C(C)=NC2=C(C)C=CC=C2C</td>\n",
       "      <td>10</td>\n",
       "      <td>0.5</td>\n",
       "      <td>AB</td>\n",
       "      <td>1.0</td>\n",
       "      <td>BH6N</td>\n",
       "      <td>[BH3-][NH3+]</td>\n",
       "      <td>0.032394</td>\n",
       "      <td>42</td>\n",
       "      <td>THF</td>\n",
       "      <td>C4H8O</td>\n",
       "      <td>C1CCOC1</td>\n",
       "      <td>6.0</td>\n",
       "      <td>1.20</td>\n",
       "    </tr>\n",
       "    <tr>\n",
       "      <th>3</th>\n",
       "      <td>None</td>\n",
       "      <td>None</td>\n",
       "      <td>None</td>\n",
       "      <td>None</td>\n",
       "      <td>None</td>\n",
       "      <td>10</td>\n",
       "      <td>None</td>\n",
       "      <td>AB</td>\n",
       "      <td>1.0</td>\n",
       "      <td>BH6N</td>\n",
       "      <td>[BH3-][NH3+]</td>\n",
       "      <td>0.032394</td>\n",
       "      <td>42</td>\n",
       "      <td>THF</td>\n",
       "      <td>C4H8O</td>\n",
       "      <td>C1CCOC1</td>\n",
       "      <td>24.0</td>\n",
       "      <td>1.20</td>\n",
       "    </tr>\n",
       "    <tr>\n",
       "      <th>4</th>\n",
       "      <td>None</td>\n",
       "      <td>None</td>\n",
       "      <td>None</td>\n",
       "      <td>None</td>\n",
       "      <td>None</td>\n",
       "      <td>10</td>\n",
       "      <td>None</td>\n",
       "      <td>AB</td>\n",
       "      <td>1.0</td>\n",
       "      <td>BH6N</td>\n",
       "      <td>[BH3-][NH3+]</td>\n",
       "      <td>0.032394</td>\n",
       "      <td>42</td>\n",
       "      <td>THF</td>\n",
       "      <td>C4H8O</td>\n",
       "      <td>C1CCOC1</td>\n",
       "      <td>60.0</td>\n",
       "      <td>1.30</td>\n",
       "    </tr>\n",
       "  </tbody>\n",
       "</table>\n",
       "</div>"
      ],
      "text/plain": [
       "         Code               MF      MW Mol Catalyst  \\\n",
       "0  DS20_RuOTf  C28H31N2O3SF3Ru  633.69   0.00016197   \n",
       "1        None             None    None         None   \n",
       "2  DS20_RuOTf  C28H31N2O3SF3Ru  633.69   0.00016197   \n",
       "3        None             None    None         None   \n",
       "4        None             None    None         None   \n",
       "\n",
       "                                 SMILES (Ligand) Solvent Volume (mL)  \\\n",
       "0  C/C(NC1=C(C)C=CC=C1C)=C/C(C)=NC2=C(C)C=CC=C2C                  10   \n",
       "1                                           None                  10   \n",
       "2  C/C(NC1=C(C)C=CC=C1C)=C/C(C)=NC2=C(C)C=CC=C2C                  10   \n",
       "3                                           None                  10   \n",
       "4                                           None                  10   \n",
       "\n",
       "  Catalyst Percentage (%) Substrate  Substrate Weight (g)  MF.1  \\\n",
       "0                     0.5        AB                   1.0  BH6N   \n",
       "1                    None        AB                   1.0  BH6N   \n",
       "2                     0.5        AB                   1.0  BH6N   \n",
       "3                    None        AB                   1.0  BH6N   \n",
       "4                    None        AB                   1.0  BH6N   \n",
       "\n",
       "  SMILES (Substrate)  Mol Substrate  Temperature © Solvent   MF.2  \\\n",
       "0       [BH3-][NH3+]       0.032394             22     THF  C4H8O   \n",
       "1       [BH3-][NH3+]       0.032394             22     THF  C4H8O   \n",
       "2       [BH3-][NH3+]       0.032394             42     THF  C4H8O   \n",
       "3       [BH3-][NH3+]       0.032394             42     THF  C4H8O   \n",
       "4       [BH3-][NH3+]       0.032394             42     THF  C4H8O   \n",
       "\n",
       "  SMILES (Solvent)  Time (hr)  H2 Equivalence  \n",
       "0          C1CCOC1       60.0            1.10  \n",
       "1          C1CCOC1       60.0            0.07  \n",
       "2          C1CCOC1        6.0            1.20  \n",
       "3          C1CCOC1       24.0            1.20  \n",
       "4          C1CCOC1       60.0            1.30  "
      ]
     },
     "execution_count": 3,
     "metadata": {},
     "output_type": "execute_result"
    }
   ],
   "source": [
    "df = df.drop(columns=\"Reaction\")\n",
    "df.head()"
   ]
  },
  {
   "cell_type": "markdown",
   "metadata": {},
   "source": [
    "This data set contains 'None' values for empty row inputs which is not compatible with fastai, so these values must be converted to the more formally recognised 'NaN' notation:"
   ]
  },
  {
   "cell_type": "code",
   "execution_count": 4,
   "metadata": {},
   "outputs": [
    {
     "data": {
      "text/html": [
       "<div>\n",
       "<style scoped>\n",
       "    .dataframe tbody tr th:only-of-type {\n",
       "        vertical-align: middle;\n",
       "    }\n",
       "\n",
       "    .dataframe tbody tr th {\n",
       "        vertical-align: top;\n",
       "    }\n",
       "\n",
       "    .dataframe thead th {\n",
       "        text-align: right;\n",
       "    }\n",
       "</style>\n",
       "<table border=\"1\" class=\"dataframe\">\n",
       "  <thead>\n",
       "    <tr style=\"text-align: right;\">\n",
       "      <th></th>\n",
       "      <th>Code</th>\n",
       "      <th>MF</th>\n",
       "      <th>MW</th>\n",
       "      <th>Mol Catalyst</th>\n",
       "      <th>SMILES (Ligand)</th>\n",
       "      <th>Solvent Volume (mL)</th>\n",
       "      <th>Catalyst Percentage (%)</th>\n",
       "      <th>Substrate</th>\n",
       "      <th>Substrate Weight (g)</th>\n",
       "      <th>MF.1</th>\n",
       "      <th>SMILES (Substrate)</th>\n",
       "      <th>Mol Substrate</th>\n",
       "      <th>Temperature ©</th>\n",
       "      <th>Solvent</th>\n",
       "      <th>MF.2</th>\n",
       "      <th>SMILES (Solvent)</th>\n",
       "      <th>Time (hr)</th>\n",
       "      <th>H2 Equivalence</th>\n",
       "    </tr>\n",
       "  </thead>\n",
       "  <tbody>\n",
       "    <tr>\n",
       "      <th>0</th>\n",
       "      <td>DS20_RuOTf</td>\n",
       "      <td>C28H31N2O3SF3Ru</td>\n",
       "      <td>633.69</td>\n",
       "      <td>0.00016197</td>\n",
       "      <td>C/C(NC1=C(C)C=CC=C1C)=C/C(C)=NC2=C(C)C=CC=C2C</td>\n",
       "      <td>10</td>\n",
       "      <td>0.5</td>\n",
       "      <td>AB</td>\n",
       "      <td>1.0</td>\n",
       "      <td>BH6N</td>\n",
       "      <td>[BH3-][NH3+]</td>\n",
       "      <td>0.032394</td>\n",
       "      <td>22</td>\n",
       "      <td>THF</td>\n",
       "      <td>C4H8O</td>\n",
       "      <td>C1CCOC1</td>\n",
       "      <td>60.0</td>\n",
       "      <td>1.10</td>\n",
       "    </tr>\n",
       "    <tr>\n",
       "      <th>1</th>\n",
       "      <td>NaN</td>\n",
       "      <td>NaN</td>\n",
       "      <td>NaN</td>\n",
       "      <td>NaN</td>\n",
       "      <td>NaN</td>\n",
       "      <td>10</td>\n",
       "      <td>NaN</td>\n",
       "      <td>AB</td>\n",
       "      <td>1.0</td>\n",
       "      <td>BH6N</td>\n",
       "      <td>[BH3-][NH3+]</td>\n",
       "      <td>0.032394</td>\n",
       "      <td>22</td>\n",
       "      <td>THF</td>\n",
       "      <td>C4H8O</td>\n",
       "      <td>C1CCOC1</td>\n",
       "      <td>60.0</td>\n",
       "      <td>0.07</td>\n",
       "    </tr>\n",
       "    <tr>\n",
       "      <th>2</th>\n",
       "      <td>DS20_RuOTf</td>\n",
       "      <td>C28H31N2O3SF3Ru</td>\n",
       "      <td>633.69</td>\n",
       "      <td>0.00016197</td>\n",
       "      <td>C/C(NC1=C(C)C=CC=C1C)=C/C(C)=NC2=C(C)C=CC=C2C</td>\n",
       "      <td>10</td>\n",
       "      <td>0.5</td>\n",
       "      <td>AB</td>\n",
       "      <td>1.0</td>\n",
       "      <td>BH6N</td>\n",
       "      <td>[BH3-][NH3+]</td>\n",
       "      <td>0.032394</td>\n",
       "      <td>42</td>\n",
       "      <td>THF</td>\n",
       "      <td>C4H8O</td>\n",
       "      <td>C1CCOC1</td>\n",
       "      <td>6.0</td>\n",
       "      <td>1.20</td>\n",
       "    </tr>\n",
       "    <tr>\n",
       "      <th>3</th>\n",
       "      <td>NaN</td>\n",
       "      <td>NaN</td>\n",
       "      <td>NaN</td>\n",
       "      <td>NaN</td>\n",
       "      <td>NaN</td>\n",
       "      <td>10</td>\n",
       "      <td>NaN</td>\n",
       "      <td>AB</td>\n",
       "      <td>1.0</td>\n",
       "      <td>BH6N</td>\n",
       "      <td>[BH3-][NH3+]</td>\n",
       "      <td>0.032394</td>\n",
       "      <td>42</td>\n",
       "      <td>THF</td>\n",
       "      <td>C4H8O</td>\n",
       "      <td>C1CCOC1</td>\n",
       "      <td>24.0</td>\n",
       "      <td>1.20</td>\n",
       "    </tr>\n",
       "    <tr>\n",
       "      <th>4</th>\n",
       "      <td>NaN</td>\n",
       "      <td>NaN</td>\n",
       "      <td>NaN</td>\n",
       "      <td>NaN</td>\n",
       "      <td>NaN</td>\n",
       "      <td>10</td>\n",
       "      <td>NaN</td>\n",
       "      <td>AB</td>\n",
       "      <td>1.0</td>\n",
       "      <td>BH6N</td>\n",
       "      <td>[BH3-][NH3+]</td>\n",
       "      <td>0.032394</td>\n",
       "      <td>42</td>\n",
       "      <td>THF</td>\n",
       "      <td>C4H8O</td>\n",
       "      <td>C1CCOC1</td>\n",
       "      <td>60.0</td>\n",
       "      <td>1.30</td>\n",
       "    </tr>\n",
       "  </tbody>\n",
       "</table>\n",
       "</div>"
      ],
      "text/plain": [
       "         Code               MF      MW Mol Catalyst  \\\n",
       "0  DS20_RuOTf  C28H31N2O3SF3Ru  633.69   0.00016197   \n",
       "1         NaN              NaN     NaN          NaN   \n",
       "2  DS20_RuOTf  C28H31N2O3SF3Ru  633.69   0.00016197   \n",
       "3         NaN              NaN     NaN          NaN   \n",
       "4         NaN              NaN     NaN          NaN   \n",
       "\n",
       "                                 SMILES (Ligand) Solvent Volume (mL)  \\\n",
       "0  C/C(NC1=C(C)C=CC=C1C)=C/C(C)=NC2=C(C)C=CC=C2C                  10   \n",
       "1                                            NaN                  10   \n",
       "2  C/C(NC1=C(C)C=CC=C1C)=C/C(C)=NC2=C(C)C=CC=C2C                  10   \n",
       "3                                            NaN                  10   \n",
       "4                                            NaN                  10   \n",
       "\n",
       "  Catalyst Percentage (%) Substrate  Substrate Weight (g)  MF.1  \\\n",
       "0                     0.5        AB                   1.0  BH6N   \n",
       "1                     NaN        AB                   1.0  BH6N   \n",
       "2                     0.5        AB                   1.0  BH6N   \n",
       "3                     NaN        AB                   1.0  BH6N   \n",
       "4                     NaN        AB                   1.0  BH6N   \n",
       "\n",
       "  SMILES (Substrate)  Mol Substrate  Temperature © Solvent   MF.2  \\\n",
       "0       [BH3-][NH3+]       0.032394             22     THF  C4H8O   \n",
       "1       [BH3-][NH3+]       0.032394             22     THF  C4H8O   \n",
       "2       [BH3-][NH3+]       0.032394             42     THF  C4H8O   \n",
       "3       [BH3-][NH3+]       0.032394             42     THF  C4H8O   \n",
       "4       [BH3-][NH3+]       0.032394             42     THF  C4H8O   \n",
       "\n",
       "  SMILES (Solvent)  Time (hr)  H2 Equivalence  \n",
       "0          C1CCOC1       60.0            1.10  \n",
       "1          C1CCOC1       60.0            0.07  \n",
       "2          C1CCOC1        6.0            1.20  \n",
       "3          C1CCOC1       24.0            1.20  \n",
       "4          C1CCOC1       60.0            1.30  "
      ]
     },
     "execution_count": 4,
     "metadata": {},
     "output_type": "execute_result"
    }
   ],
   "source": [
    "df = df.replace(\"None\", np.nan)\n",
    "df.head()"
   ]
  },
  {
   "cell_type": "markdown",
   "metadata": {},
   "source": [
    "### Create Training and Test Sets"
   ]
  },
  {
   "cell_type": "markdown",
   "metadata": {},
   "source": [
    "This section takes advantage of fastai's useful split function which automatically separates the data into training and test sets, mitigating the need for manual assignment of the X and y values. Such a separation of the data set is necessary as, while carrying out training on the entire data set would return accurate predictions, the learning algorithm would not be as accurate when predicitng similar future data sets. The test size in this instance was initially set to 20%, but it was found that further reduction to 10% resulted in a higher prediction accuracy.    \n"
   ]
  },
  {
   "cell_type": "code",
   "execution_count": 5,
   "metadata": {},
   "outputs": [],
   "source": [
    "df_train, df_test = train_test_split(df, test_size=0.1)"
   ]
  },
  {
   "cell_type": "code",
   "execution_count": 6,
   "metadata": {},
   "outputs": [
    {
     "data": {
      "text/html": [
       "<div>\n",
       "<style scoped>\n",
       "    .dataframe tbody tr th:only-of-type {\n",
       "        vertical-align: middle;\n",
       "    }\n",
       "\n",
       "    .dataframe tbody tr th {\n",
       "        vertical-align: top;\n",
       "    }\n",
       "\n",
       "    .dataframe thead th {\n",
       "        text-align: right;\n",
       "    }\n",
       "</style>\n",
       "<table border=\"1\" class=\"dataframe\">\n",
       "  <thead>\n",
       "    <tr style=\"text-align: right;\">\n",
       "      <th></th>\n",
       "      <th>Code</th>\n",
       "      <th>MF</th>\n",
       "      <th>MW</th>\n",
       "      <th>Mol Catalyst</th>\n",
       "      <th>SMILES (Ligand)</th>\n",
       "      <th>Solvent Volume (mL)</th>\n",
       "      <th>Catalyst Percentage (%)</th>\n",
       "      <th>Substrate</th>\n",
       "      <th>Substrate Weight (g)</th>\n",
       "      <th>MF.1</th>\n",
       "      <th>SMILES (Substrate)</th>\n",
       "      <th>Mol Substrate</th>\n",
       "      <th>Temperature ©</th>\n",
       "      <th>Solvent</th>\n",
       "      <th>MF.2</th>\n",
       "      <th>SMILES (Solvent)</th>\n",
       "      <th>Time (hr)</th>\n",
       "      <th>H2 Equivalence</th>\n",
       "    </tr>\n",
       "  </thead>\n",
       "  <tbody>\n",
       "    <tr>\n",
       "      <th>245</th>\n",
       "      <td>DS20_RuOTf</td>\n",
       "      <td>C28H31N2O3SF3Ru</td>\n",
       "      <td>633.69</td>\n",
       "      <td>8.06178E-05</td>\n",
       "      <td>C/C(NC1=C(C)C=CC=C1C)=C/C(C)=NC2=C(C)C=CC=C2C</td>\n",
       "      <td>5</td>\n",
       "      <td>0.5</td>\n",
       "      <td>DMAB</td>\n",
       "      <td>0.95</td>\n",
       "      <td>C2H10BN</td>\n",
       "      <td>[BH3-][NH+](C)C</td>\n",
       "      <td>0.016124</td>\n",
       "      <td>42</td>\n",
       "      <td>Diglyme</td>\n",
       "      <td>C6H14O3</td>\n",
       "      <td>COCOCOC</td>\n",
       "      <td>0.94</td>\n",
       "      <td>0.95</td>\n",
       "    </tr>\n",
       "    <tr>\n",
       "      <th>178</th>\n",
       "      <td>COC72_RuOTf</td>\n",
       "      <td>C26H27N2O3S3F3Ru</td>\n",
       "      <td>669.76</td>\n",
       "      <td>8.06178E-05</td>\n",
       "      <td>CSC1=C(NC(\\C)=C/C(C)=NC2=C(SC)C=CC=C2)C=CC=C1</td>\n",
       "      <td>5</td>\n",
       "      <td>0.5</td>\n",
       "      <td>DMAB</td>\n",
       "      <td>0.95</td>\n",
       "      <td>C2H10BN</td>\n",
       "      <td>[BH3-][NH+](C)C</td>\n",
       "      <td>0.016124</td>\n",
       "      <td>42</td>\n",
       "      <td>DiMeTHF</td>\n",
       "      <td>C6H12O</td>\n",
       "      <td>CC1CCC(C)O1</td>\n",
       "      <td>0.20</td>\n",
       "      <td>0.90</td>\n",
       "    </tr>\n",
       "    <tr>\n",
       "      <th>130</th>\n",
       "      <td>COC72_RuOTf</td>\n",
       "      <td>C26H27N2O3S3F3Ru</td>\n",
       "      <td>669.76</td>\n",
       "      <td>6.39851E-05</td>\n",
       "      <td>CSC1=C(NC(\\C)=C/C(C)=NC2=C(SC)C=CC=C2)C=CC=C1</td>\n",
       "      <td>20</td>\n",
       "      <td>0.1</td>\n",
       "      <td>DMAB</td>\n",
       "      <td>3.77</td>\n",
       "      <td>C2H10BN</td>\n",
       "      <td>[BH3-][NH+](C)C</td>\n",
       "      <td>0.063985</td>\n",
       "      <td>40</td>\n",
       "      <td>THF</td>\n",
       "      <td>C4H8O</td>\n",
       "      <td>C1CCOC1</td>\n",
       "      <td>6.00</td>\n",
       "      <td>0.88</td>\n",
       "    </tr>\n",
       "    <tr>\n",
       "      <th>159</th>\n",
       "      <td>COC72_RuOTf</td>\n",
       "      <td>C26H27N2O3S3F3Ru</td>\n",
       "      <td>669.76</td>\n",
       "      <td>8.09848E-05</td>\n",
       "      <td>CSC1=C(NC(\\C)=C/C(C)=NC2=C(SC)C=CC=C2)C=CC=C1</td>\n",
       "      <td>5</td>\n",
       "      <td>0.5</td>\n",
       "      <td>AB</td>\n",
       "      <td>0.50</td>\n",
       "      <td>BH6N</td>\n",
       "      <td>[BH3-][NH3+]</td>\n",
       "      <td>0.016197</td>\n",
       "      <td>42</td>\n",
       "      <td>EmimDCA</td>\n",
       "      <td>C8H11N5</td>\n",
       "      <td>CC[N]1C=C[N+](=C1)C N#C[N-]C#N</td>\n",
       "      <td>40.00</td>\n",
       "      <td>0.90</td>\n",
       "    </tr>\n",
       "    <tr>\n",
       "      <th>193</th>\n",
       "      <td>NaN</td>\n",
       "      <td>NaN</td>\n",
       "      <td>NaN</td>\n",
       "      <td>NaN</td>\n",
       "      <td>NaN</td>\n",
       "      <td>NaN</td>\n",
       "      <td>NaN</td>\n",
       "      <td>DIPAB</td>\n",
       "      <td>2.00</td>\n",
       "      <td>C6H18BN</td>\n",
       "      <td>[BH3-][NH+](C(C)C)C(C)C</td>\n",
       "      <td>0.017388</td>\n",
       "      <td>150</td>\n",
       "      <td>NaN</td>\n",
       "      <td>NaN</td>\n",
       "      <td>NaN</td>\n",
       "      <td>20.00</td>\n",
       "      <td>1.00</td>\n",
       "    </tr>\n",
       "  </tbody>\n",
       "</table>\n",
       "</div>"
      ],
      "text/plain": [
       "             Code                MF      MW Mol Catalyst  \\\n",
       "245    DS20_RuOTf   C28H31N2O3SF3Ru  633.69  8.06178E-05   \n",
       "178  COC72_RuOTf   C26H27N2O3S3F3Ru  669.76  8.06178E-05   \n",
       "130   COC72_RuOTf  C26H27N2O3S3F3Ru  669.76  6.39851E-05   \n",
       "159   COC72_RuOTf  C26H27N2O3S3F3Ru  669.76  8.09848E-05   \n",
       "193           NaN               NaN     NaN          NaN   \n",
       "\n",
       "                                   SMILES (Ligand) Solvent Volume (mL)  \\\n",
       "245  C/C(NC1=C(C)C=CC=C1C)=C/C(C)=NC2=C(C)C=CC=C2C                   5   \n",
       "178  CSC1=C(NC(\\C)=C/C(C)=NC2=C(SC)C=CC=C2)C=CC=C1                   5   \n",
       "130  CSC1=C(NC(\\C)=C/C(C)=NC2=C(SC)C=CC=C2)C=CC=C1                  20   \n",
       "159  CSC1=C(NC(\\C)=C/C(C)=NC2=C(SC)C=CC=C2)C=CC=C1                   5   \n",
       "193                                            NaN                 NaN   \n",
       "\n",
       "    Catalyst Percentage (%) Substrate  Substrate Weight (g)     MF.1  \\\n",
       "245                     0.5      DMAB                  0.95  C2H10BN   \n",
       "178                     0.5      DMAB                  0.95  C2H10BN   \n",
       "130                     0.1      DMAB                  3.77  C2H10BN   \n",
       "159                     0.5        AB                  0.50     BH6N   \n",
       "193                     NaN     DIPAB                  2.00  C6H18BN   \n",
       "\n",
       "          SMILES (Substrate)  Mol Substrate  Temperature ©  Solvent     MF.2  \\\n",
       "245          [BH3-][NH+](C)C       0.016124             42  Diglyme  C6H14O3   \n",
       "178          [BH3-][NH+](C)C       0.016124             42  DiMeTHF   C6H12O   \n",
       "130          [BH3-][NH+](C)C       0.063985             40      THF    C4H8O   \n",
       "159             [BH3-][NH3+]       0.016197             42  EmimDCA  C8H11N5   \n",
       "193  [BH3-][NH+](C(C)C)C(C)C       0.017388            150      NaN      NaN   \n",
       "\n",
       "                   SMILES (Solvent)  Time (hr)  H2 Equivalence  \n",
       "245                         COCOCOC       0.94            0.95  \n",
       "178                     CC1CCC(C)O1       0.20            0.90  \n",
       "130                         C1CCOC1       6.00            0.88  \n",
       "159  CC[N]1C=C[N+](=C1)C N#C[N-]C#N      40.00            0.90  \n",
       "193                             NaN      20.00            1.00  "
      ]
     },
     "execution_count": 6,
     "metadata": {},
     "output_type": "execute_result"
    }
   ],
   "source": [
    "df_train.head()"
   ]
  },
  {
   "cell_type": "code",
   "execution_count": 7,
   "metadata": {},
   "outputs": [
    {
     "name": "stdout",
     "output_type": "stream",
     "text": [
      "Shape of training set: (225, 18)\n",
      "Shape of test set: (25, 18)\n"
     ]
    }
   ],
   "source": [
    "print(\"Shape of training set:\", df_train.shape)\n",
    "print(\"Shape of test set:\", df_test.shape)"
   ]
  },
  {
   "cell_type": "markdown",
   "metadata": {},
   "source": [
    "### Dealing with Categorical Variables"
   ]
  },
  {
   "cell_type": "markdown",
   "metadata": {},
   "source": [
    "Following the example given [here](https://docs.fast.ai/tabular.html), the 'dependent' variable was selected and the remaining columns in the data set separated into two variables: 'categorical' and 'continuous'. Once the dependent and categorical variables are assigned, fastai assumes the remaining column data to be continuous variables.    "
   ]
  },
  {
   "cell_type": "code",
   "execution_count": 8,
   "metadata": {},
   "outputs": [],
   "source": [
    "dep_var1 = \"H2 Equivalence\"\n",
    "cat_names = [\"Code\", \"MF\", \"SMILES (Ligand)\", \"Substrate\", \"MF.1\", \"SMILES (Substrate)\", \"Solvent\", \"MF.2\", \"SMILES (Solvent)\"]"
   ]
  },
  {
   "cell_type": "markdown",
   "metadata": {},
   "source": [
    "## Machine Learning with the First Dependent Variable"
   ]
  },
  {
   "cell_type": "markdown",
   "metadata": {},
   "source": [
    "Before applying machine learning to the data set, the missing 'NaN' values need to be replaced with something more compatable such as continuous variables, which will be normalised and then fed into the model:"
   ]
  },
  {
   "cell_type": "code",
   "execution_count": 9,
   "metadata": {},
   "outputs": [],
   "source": [
    "tfms1 = [FillMissing, Categorify]"
   ]
  },
  {
   "cell_type": "markdown",
   "metadata": {},
   "source": [
    "The now treated information is then passed to the following method which creates the DataBunch used for training: "
   ]
  },
  {
   "cell_type": "code",
   "execution_count": 42,
   "metadata": {},
   "outputs": [],
   "source": [
    "data1 = TabularDataBunch.from_df(\"./tmp\", df_train, df_test, dep_var1, tfms=tfms1, cat_names=cat_names)"
   ]
  },
  {
   "cell_type": "code",
   "execution_count": 11,
   "metadata": {},
   "outputs": [
    {
     "name": "stdout",
     "output_type": "stream",
     "text": [
      "['Catalyst Percentage (%)', 'MW', 'Temperature ©', 'Time (hr)', 'Solvent Volume (mL)', 'Mol Substrate', 'Mol Catalyst', 'Substrate Weight (g)']\n"
     ]
    }
   ],
   "source": [
    "print(data1.train_ds.cont_names)"
   ]
  },
  {
   "cell_type": "markdown",
   "metadata": {},
   "source": [
    "Now that the data set is ready for training, a Learner model is created using the TabularModel: "
   ]
  },
  {
   "cell_type": "code",
   "execution_count": 12,
   "metadata": {},
   "outputs": [],
   "source": [
    "learn1 = get_tabular_learner(data1, layers=[100,100])"
   ]
  },
  {
   "cell_type": "code",
   "execution_count": 13,
   "metadata": {},
   "outputs": [
    {
     "name": "stdout",
     "output_type": "stream",
     "text": [
      "LR Finder complete, type {learner_name}.recorder.plot() to see the graph.\n"
     ]
    }
   ],
   "source": [
    "learn1.lr_find()"
   ]
  },
  {
   "cell_type": "code",
   "execution_count": 14,
   "metadata": {},
   "outputs": [
    {
     "data": {
      "image/png": "[encoded data removed]",
      "text/plain": [
       "<Figure size 432x288 with 1 Axes>"
      ]
     },
     "metadata": {
      "needs_background": "light"
     },
     "output_type": "display_data"
    }
   ],
   "source": [
    "learn1.recorder.plot()"
   ]
  },
  {
   "cell_type": "code",
   "execution_count": 15,
   "metadata": {},
   "outputs": [
    {
     "name": "stdout",
     "output_type": "stream",
     "text": [
      "Total time: 00:09\n",
      "epoch  train_loss  valid_loss\n",
      "1      1.142879    0.762017    (00:00)\n",
      "2      0.877760    0.254128    (00:00)\n",
      "3      0.651418    0.471541    (00:00)\n",
      "4      0.526795    0.214805    (00:00)\n",
      "5      0.434487    0.165588    (00:00)\n",
      "6      0.362717    0.171176    (00:00)\n",
      "7      0.314852    0.213320    (00:00)\n",
      "8      0.280246    0.248673    (00:00)\n",
      "9      0.256746    0.517450    (00:00)\n",
      "10     0.238227    0.175017    (00:00)\n",
      "11     0.217599    0.310479    (00:00)\n",
      "12     0.199374    0.171866    (00:00)\n",
      "13     0.181964    0.257174    (00:00)\n",
      "14     0.167727    0.251190    (00:00)\n",
      "15     0.154992    0.209429    (00:00)\n",
      "16     0.142428    0.191737    (00:00)\n",
      "17     0.131565    0.184842    (00:00)\n",
      "18     0.122127    0.165292    (00:00)\n",
      "19     0.112687    0.158228    (00:00)\n",
      "20     0.105718    0.187252    (00:00)\n",
      "21     0.098488    0.196723    (00:00)\n",
      "22     0.092401    0.179656    (00:00)\n",
      "23     0.085963    0.180740    (00:00)\n",
      "24     0.080117    0.171667    (00:00)\n",
      "25     0.074715    0.184485    (00:00)\n",
      "26     0.069862    0.193252    (00:00)\n",
      "27     0.065848    0.188096    (00:00)\n",
      "28     0.061770    0.187629    (00:00)\n",
      "29     0.057938    0.181852    (00:00)\n",
      "30     0.054519    0.180375    (00:00)\n",
      "\n"
     ]
    }
   ],
   "source": [
    "learn1.fit_one_cycle(30, 10e-2)"
   ]
  },
  {
   "cell_type": "markdown",
   "metadata": {},
   "source": [
    "The resulting trained data is then split into predictions and targets using the following function:"
   ]
  },
  {
   "cell_type": "code",
   "execution_count": 16,
   "metadata": {},
   "outputs": [],
   "source": [
    "pred1, targ1 = learn1.get_preds()"
   ]
  },
  {
   "cell_type": "code",
   "execution_count": 17,
   "metadata": {},
   "outputs": [
    {
     "data": {
      "text/plain": [
       "tensor([1.2183, 0.8190, 0.8720, 0.8356, 1.2826, 0.8631, 0.8668, 0.6110, 0.9273,\n",
       "        0.1387, 0.2982, 0.1999, 0.9012, 0.2790, 0.1942, 0.3310, 0.2938, 0.3442,\n",
       "        0.4706, 0.3206, 0.8893, 0.8964, 0.5058, 0.3099, 0.6853])"
      ]
     },
     "execution_count": 17,
     "metadata": {},
     "output_type": "execute_result"
    }
   ],
   "source": [
    "pred1"
   ]
  },
  {
   "cell_type": "code",
   "execution_count": 18,
   "metadata": {},
   "outputs": [
    {
     "data": {
      "text/plain": [
       "tensor([1.4000, 1.5000, 0.9500, 0.9000, 1.4000, 1.0000, 0.9000, 1.9000, 0.8500,\n",
       "        0.1200, 0.6000, 0.6000, 0.9800, 1.0000, 0.0400, 0.9000, 0.1700, 0.9000,\n",
       "        0.0200, 1.0000, 0.9000, 0.9500, 0.9000, 0.3500, 0.8500])"
      ]
     },
     "execution_count": 18,
     "metadata": {},
     "output_type": "execute_result"
    }
   ],
   "source": [
    "targ1"
   ]
  },
  {
   "cell_type": "markdown",
   "metadata": {},
   "source": [
    "In order to see a more comparable value the difference between the prediction and target values are calculated and the percentage accuracy displayed:"
   ]
  },
  {
   "cell_type": "code",
   "execution_count": 19,
   "metadata": {},
   "outputs": [],
   "source": [
    "diff1 = pred1-targ1"
   ]
  },
  {
   "cell_type": "code",
   "execution_count": 20,
   "metadata": {},
   "outputs": [
    {
     "data": {
      "text/plain": [
       "tensor([-0.1817, -0.6810, -0.0780, -0.0644, -0.1174, -0.1369, -0.0332, -1.2890,\n",
       "         0.0773,  0.0187, -0.3018, -0.4001, -0.0788, -0.7210,  0.1542, -0.5690,\n",
       "         0.1238, -0.5558,  0.4506, -0.6794, -0.0107, -0.0536, -0.3942, -0.0401,\n",
       "        -0.1647])"
      ]
     },
     "execution_count": 20,
     "metadata": {},
     "output_type": "execute_result"
    }
   ],
   "source": [
    "diff1"
   ]
  },
  {
   "cell_type": "code",
   "execution_count": 21,
   "metadata": {},
   "outputs": [],
   "source": [
    "prct1 = targ1/pred1*100"
   ]
  },
  {
   "cell_type": "code",
   "execution_count": 22,
   "metadata": {},
   "outputs": [
    {
     "data": {
      "text/plain": [
       "tensor([114.9161, 183.1556, 108.9479, 107.7008, 109.1550, 115.8599, 103.8346,\n",
       "        310.9689,  91.6630,  86.5172, 201.2339, 300.1357, 108.7410, 358.3844,\n",
       "         20.5984, 271.9404,  57.8578, 261.4555,   4.2496, 311.9506, 101.2073,\n",
       "        105.9842, 177.9478, 112.9530, 124.0348])"
      ]
     },
     "execution_count": 22,
     "metadata": {},
     "output_type": "execute_result"
    }
   ],
   "source": [
    "prct1"
   ]
  },
  {
   "cell_type": "code",
   "execution_count": 23,
   "metadata": {},
   "outputs": [],
   "source": [
    "results1 = pd.DataFrame(data = np.column_stack((targ1.numpy(),pred1.numpy(),diff1.numpy(),prct1.numpy())), columns = [\"Targets1\",\"Predictions1\",\"Difference1\",\"Percentage1\"])"
   ]
  },
  {
   "cell_type": "code",
   "execution_count": 43,
   "metadata": {},
   "outputs": [
    {
     "data": {
      "text/html": [
       "<div>\n",
       "<style scoped>\n",
       "    .dataframe tbody tr th:only-of-type {\n",
       "        vertical-align: middle;\n",
       "    }\n",
       "\n",
       "    .dataframe tbody tr th {\n",
       "        vertical-align: top;\n",
       "    }\n",
       "\n",
       "    .dataframe thead th {\n",
       "        text-align: right;\n",
       "    }\n",
       "</style>\n",
       "<table border=\"1\" class=\"dataframe\">\n",
       "  <thead>\n",
       "    <tr style=\"text-align: right;\">\n",
       "      <th></th>\n",
       "      <th>Targets1</th>\n",
       "      <th>Predictions1</th>\n",
       "      <th>Difference1</th>\n",
       "      <th>Percentage1</th>\n",
       "    </tr>\n",
       "  </thead>\n",
       "  <tbody>\n",
       "    <tr>\n",
       "      <th>0</th>\n",
       "      <td>1.40</td>\n",
       "      <td>1.218280</td>\n",
       "      <td>-0.181720</td>\n",
       "      <td>114.916100</td>\n",
       "    </tr>\n",
       "    <tr>\n",
       "      <th>1</th>\n",
       "      <td>1.50</td>\n",
       "      <td>0.818976</td>\n",
       "      <td>-0.681024</td>\n",
       "      <td>183.155640</td>\n",
       "    </tr>\n",
       "    <tr>\n",
       "      <th>2</th>\n",
       "      <td>0.95</td>\n",
       "      <td>0.871977</td>\n",
       "      <td>-0.078023</td>\n",
       "      <td>108.947861</td>\n",
       "    </tr>\n",
       "    <tr>\n",
       "      <th>3</th>\n",
       "      <td>0.90</td>\n",
       "      <td>0.835648</td>\n",
       "      <td>-0.064352</td>\n",
       "      <td>107.700821</td>\n",
       "    </tr>\n",
       "    <tr>\n",
       "      <th>4</th>\n",
       "      <td>1.40</td>\n",
       "      <td>1.282580</td>\n",
       "      <td>-0.117420</td>\n",
       "      <td>109.154999</td>\n",
       "    </tr>\n",
       "    <tr>\n",
       "      <th>5</th>\n",
       "      <td>1.00</td>\n",
       "      <td>0.863111</td>\n",
       "      <td>-0.136889</td>\n",
       "      <td>115.859947</td>\n",
       "    </tr>\n",
       "    <tr>\n",
       "      <th>6</th>\n",
       "      <td>0.90</td>\n",
       "      <td>0.866763</td>\n",
       "      <td>-0.033237</td>\n",
       "      <td>103.834625</td>\n",
       "    </tr>\n",
       "    <tr>\n",
       "      <th>7</th>\n",
       "      <td>1.90</td>\n",
       "      <td>0.610994</td>\n",
       "      <td>-1.289006</td>\n",
       "      <td>310.968872</td>\n",
       "    </tr>\n",
       "    <tr>\n",
       "      <th>8</th>\n",
       "      <td>0.85</td>\n",
       "      <td>0.927310</td>\n",
       "      <td>0.077310</td>\n",
       "      <td>91.662994</td>\n",
       "    </tr>\n",
       "    <tr>\n",
       "      <th>9</th>\n",
       "      <td>0.12</td>\n",
       "      <td>0.138701</td>\n",
       "      <td>0.018701</td>\n",
       "      <td>86.517174</td>\n",
       "    </tr>\n",
       "    <tr>\n",
       "      <th>10</th>\n",
       "      <td>0.60</td>\n",
       "      <td>0.298160</td>\n",
       "      <td>-0.301840</td>\n",
       "      <td>201.233917</td>\n",
       "    </tr>\n",
       "    <tr>\n",
       "      <th>11</th>\n",
       "      <td>0.60</td>\n",
       "      <td>0.199910</td>\n",
       "      <td>-0.400090</td>\n",
       "      <td>300.135651</td>\n",
       "    </tr>\n",
       "    <tr>\n",
       "      <th>12</th>\n",
       "      <td>0.98</td>\n",
       "      <td>0.901224</td>\n",
       "      <td>-0.078776</td>\n",
       "      <td>108.740982</td>\n",
       "    </tr>\n",
       "    <tr>\n",
       "      <th>13</th>\n",
       "      <td>1.00</td>\n",
       "      <td>0.279030</td>\n",
       "      <td>-0.720970</td>\n",
       "      <td>358.384369</td>\n",
       "    </tr>\n",
       "    <tr>\n",
       "      <th>14</th>\n",
       "      <td>0.04</td>\n",
       "      <td>0.194190</td>\n",
       "      <td>0.154190</td>\n",
       "      <td>20.598358</td>\n",
       "    </tr>\n",
       "    <tr>\n",
       "      <th>15</th>\n",
       "      <td>0.90</td>\n",
       "      <td>0.330955</td>\n",
       "      <td>-0.569045</td>\n",
       "      <td>271.940369</td>\n",
       "    </tr>\n",
       "    <tr>\n",
       "      <th>16</th>\n",
       "      <td>0.17</td>\n",
       "      <td>0.293824</td>\n",
       "      <td>0.123824</td>\n",
       "      <td>57.857849</td>\n",
       "    </tr>\n",
       "    <tr>\n",
       "      <th>17</th>\n",
       "      <td>0.90</td>\n",
       "      <td>0.344227</td>\n",
       "      <td>-0.555773</td>\n",
       "      <td>261.455505</td>\n",
       "    </tr>\n",
       "    <tr>\n",
       "      <th>18</th>\n",
       "      <td>0.02</td>\n",
       "      <td>0.470636</td>\n",
       "      <td>0.450635</td>\n",
       "      <td>4.249573</td>\n",
       "    </tr>\n",
       "    <tr>\n",
       "      <th>19</th>\n",
       "      <td>1.00</td>\n",
       "      <td>0.320564</td>\n",
       "      <td>-0.679436</td>\n",
       "      <td>311.950592</td>\n",
       "    </tr>\n",
       "    <tr>\n",
       "      <th>20</th>\n",
       "      <td>0.90</td>\n",
       "      <td>0.889264</td>\n",
       "      <td>-0.010736</td>\n",
       "      <td>101.207329</td>\n",
       "    </tr>\n",
       "    <tr>\n",
       "      <th>21</th>\n",
       "      <td>0.95</td>\n",
       "      <td>0.896360</td>\n",
       "      <td>-0.053640</td>\n",
       "      <td>105.984207</td>\n",
       "    </tr>\n",
       "    <tr>\n",
       "      <th>22</th>\n",
       "      <td>0.90</td>\n",
       "      <td>0.505766</td>\n",
       "      <td>-0.394234</td>\n",
       "      <td>177.947845</td>\n",
       "    </tr>\n",
       "    <tr>\n",
       "      <th>23</th>\n",
       "      <td>0.35</td>\n",
       "      <td>0.309863</td>\n",
       "      <td>-0.040137</td>\n",
       "      <td>112.952995</td>\n",
       "    </tr>\n",
       "    <tr>\n",
       "      <th>24</th>\n",
       "      <td>0.85</td>\n",
       "      <td>0.685292</td>\n",
       "      <td>-0.164708</td>\n",
       "      <td>124.034790</td>\n",
       "    </tr>\n",
       "  </tbody>\n",
       "</table>\n",
       "</div>"
      ],
      "text/plain": [
       "    Targets1  Predictions1  Difference1  Percentage1\n",
       "0       1.40      1.218280    -0.181720   114.916100\n",
       "1       1.50      0.818976    -0.681024   183.155640\n",
       "2       0.95      0.871977    -0.078023   108.947861\n",
       "3       0.90      0.835648    -0.064352   107.700821\n",
       "4       1.40      1.282580    -0.117420   109.154999\n",
       "5       1.00      0.863111    -0.136889   115.859947\n",
       "6       0.90      0.866763    -0.033237   103.834625\n",
       "7       1.90      0.610994    -1.289006   310.968872\n",
       "8       0.85      0.927310     0.077310    91.662994\n",
       "9       0.12      0.138701     0.018701    86.517174\n",
       "10      0.60      0.298160    -0.301840   201.233917\n",
       "11      0.60      0.199910    -0.400090   300.135651\n",
       "12      0.98      0.901224    -0.078776   108.740982\n",
       "13      1.00      0.279030    -0.720970   358.384369\n",
       "14      0.04      0.194190     0.154190    20.598358\n",
       "15      0.90      0.330955    -0.569045   271.940369\n",
       "16      0.17      0.293824     0.123824    57.857849\n",
       "17      0.90      0.344227    -0.555773   261.455505\n",
       "18      0.02      0.470636     0.450635     4.249573\n",
       "19      1.00      0.320564    -0.679436   311.950592\n",
       "20      0.90      0.889264    -0.010736   101.207329\n",
       "21      0.95      0.896360    -0.053640   105.984207\n",
       "22      0.90      0.505766    -0.394234   177.947845\n",
       "23      0.35      0.309863    -0.040137   112.952995\n",
       "24      0.85      0.685292    -0.164708   124.034790"
      ]
     },
     "execution_count": 43,
     "metadata": {},
     "output_type": "execute_result"
    }
   ],
   "source": [
    "results1.head(25)"
   ]
  },
  {
   "cell_type": "markdown",
   "metadata": {},
   "source": [
    "### Dealing with New Categorical Variables"
   ]
  },
  {
   "cell_type": "markdown",
   "metadata": {},
   "source": [
    "It was desirable to feed two dependent variables into the deep learning network, however, fastai would not accept the two different variables in the one command, thus a second learning model was carried out."
   ]
  },
  {
   "cell_type": "code",
   "execution_count": 55,
   "metadata": {},
   "outputs": [],
   "source": [
    "dep_var2 = \"Time (hr)\"\n",
    "cat_names = [\"Code\", \"MF\", \"SMILES (Ligand)\", \"Substrate\", \"MF.1\", \"SMILES (Substrate)\", \"Solvent\", \"MF.2\", \"SMILES (Solvent)\"]"
   ]
  },
  {
   "cell_type": "markdown",
   "metadata": {},
   "source": [
    "## Machine Learning with the Second Dependent Variable"
   ]
  },
  {
   "cell_type": "code",
   "execution_count": 50,
   "metadata": {},
   "outputs": [],
   "source": [
    "tfms2 = [FillMissing, Categorify]"
   ]
  },
  {
   "cell_type": "code",
   "execution_count": 56,
   "metadata": {},
   "outputs": [],
   "source": [
    "data2 = TabularDataBunch.from_df(\"./tmp\", df_train, df_test, dep_var2, tfms=tfms2, cat_names=cat_names)"
   ]
  },
  {
   "cell_type": "code",
   "execution_count": 57,
   "metadata": {},
   "outputs": [
    {
     "name": "stdout",
     "output_type": "stream",
     "text": [
      "['Catalyst Percentage (%)_na', 'Catalyst Percentage (%)', 'MW', 'Temperature ©', 'Solvent Volume (mL)_na', 'Mol Catalyst_na', 'Solvent Volume (mL)', 'Mol Substrate', 'Mol Catalyst', 'H2 Equivalence', 'MW_na', 'Substrate Weight (g)']\n"
     ]
    }
   ],
   "source": [
    "print(data2.train_ds.cont_names)"
   ]
  },
  {
   "cell_type": "code",
   "execution_count": 29,
   "metadata": {},
   "outputs": [],
   "source": [
    "learn2 = get_tabular_learner(data2, layers=[100,100])"
   ]
  },
  {
   "cell_type": "code",
   "execution_count": 30,
   "metadata": {},
   "outputs": [
    {
     "name": "stdout",
     "output_type": "stream",
     "text": [
      "LR Finder complete, type {learner_name}.recorder.plot() to see the graph.\n"
     ]
    }
   ],
   "source": [
    "learn2.lr_find()"
   ]
  },
  {
   "cell_type": "code",
   "execution_count": 31,
   "metadata": {},
   "outputs": [
    {
     "data": {
      "image/png": "[encoded data removed]",
      "text/plain": [
       "<Figure size 432x288 with 1 Axes>"
      ]
     },
     "metadata": {
      "needs_background": "light"
     },
     "output_type": "display_data"
    }
   ],
   "source": [
    "learn2.recorder.plot()"
   ]
  },
  {
   "cell_type": "code",
   "execution_count": 32,
   "metadata": {},
   "outputs": [
    {
     "name": "stdout",
     "output_type": "stream",
     "text": [
      "Total time: 00:16\n",
      "epoch  train_loss  valid_loss   \n",
      "1      1774.209595  2845.753418   (00:00)\n",
      "2      1339.095215  27025.394531  (00:00)\n",
      "3      1198.118042  1889.038696   (00:00)\n",
      "4      1088.488403  2438.868652   (00:00)\n",
      "5      962.343018  7244.322266    (00:00)\n",
      "6      890.747131  2355.362549    (00:00)\n",
      "7      824.455017  3560.395020    (00:00)\n",
      "8      773.089966  1533.287231    (00:00)\n",
      "9      718.554382  1708.739746    (00:00)\n",
      "10     669.842712  1724.400513    (00:00)\n",
      "11     651.114319  1331.041382    (00:00)\n",
      "12     630.477600  1404.446411    (00:00)\n",
      "13     625.496643  1461.698730    (00:00)\n",
      "14     610.908142  1364.670044    (00:00)\n",
      "15     593.056763  1840.422363    (00:00)\n",
      "16     598.404480  1924.343018    (00:00)\n",
      "17     611.121643  1767.449829    (00:00)\n",
      "18     618.682129  1219.289185    (00:00)\n",
      "19     607.230469  1449.482544    (00:00)\n",
      "20     587.376343  1862.963745    (00:00)\n",
      "21     587.137268  1711.497559    (00:00)\n",
      "22     569.564819  1849.307983    (00:00)\n",
      "23     570.463745  1246.698486    (00:00)\n",
      "24     597.931885  2023.033569    (00:00)\n",
      "25     617.626892  1329.247681    (00:00)\n",
      "26     601.653992  1392.076294    (00:00)\n",
      "27     605.687256  1486.869995    (00:00)\n",
      "28     596.377136  1441.321289    (00:00)\n",
      "29     585.458008  1651.600586    (00:00)\n",
      "30     570.449707  1540.187866    (00:00)\n",
      "31     551.379028  1275.581299    (00:00)\n",
      "32     531.219543  1402.724243    (00:00)\n",
      "33     508.867004  1614.749023    (00:00)\n",
      "34     498.853760  1485.913086    (00:00)\n",
      "35     475.898102  1315.429199    (00:00)\n",
      "36     454.401733  1382.052979    (00:00)\n",
      "37     436.082611  1480.939819    (00:00)\n",
      "38     417.161530  1417.224243    (00:00)\n",
      "39     399.079132  1322.196777    (00:00)\n",
      "40     382.440369  1349.213623    (00:00)\n",
      "41     375.324127  1401.713379    (00:00)\n",
      "42     366.580811  1341.408936    (00:00)\n",
      "43     351.473602  1256.076172    (00:00)\n",
      "44     340.394531  1221.347534    (00:00)\n",
      "45     326.246490  1179.269775    (00:00)\n",
      "46     311.292908  1156.851807    (00:00)\n",
      "47     297.735291  1152.421875    (00:00)\n",
      "48     286.878479  1157.240967    (00:00)\n",
      "49     276.213684  1148.052124    (00:00)\n",
      "50     263.698029  1141.588745    (00:00)\n",
      "\n"
     ]
    }
   ],
   "source": [
    "learn2.fit_one_cycle(50, 10e-1)"
   ]
  },
  {
   "cell_type": "code",
   "execution_count": 33,
   "metadata": {},
   "outputs": [],
   "source": [
    "pred2, targ2 = learn2.get_preds()"
   ]
  },
  {
   "cell_type": "code",
   "execution_count": 34,
   "metadata": {},
   "outputs": [
    {
     "data": {
      "text/plain": [
       "tensor([49.9951,  0.7206,  1.2125, -1.2059, 32.0551, 62.3219,  0.9811, 28.8216,\n",
       "         6.1381, 77.3440, 29.5177, 82.7907,  3.9963, 27.0157, 34.7289, 26.0493,\n",
       "        80.7221, 27.0562, 61.7347, 27.5223,  1.5195,  1.3925, 25.1229, 32.6327,\n",
       "         0.1599])"
      ]
     },
     "execution_count": 34,
     "metadata": {},
     "output_type": "execute_result"
    }
   ],
   "source": [
    "pred2"
   ]
  },
  {
   "cell_type": "code",
   "execution_count": 35,
   "metadata": {},
   "outputs": [
    {
     "data": {
      "text/plain": [
       "tensor([ 25.0000,  40.0000,   0.4000,   0.0400,   7.0000,  60.0000,   0.2000,\n",
       "        110.0000,   2.0000,  90.0000,  40.0000,  90.0000,   2.7000,  20.0000,\n",
       "        150.0000,   0.5000, 115.0000,  14.0000,  15.0000,   5.0000,   2.0000,\n",
       "          5.0000,   0.5000,  20.0000,   0.0400])"
      ]
     },
     "execution_count": 35,
     "metadata": {},
     "output_type": "execute_result"
    }
   ],
   "source": [
    "targ2"
   ]
  },
  {
   "cell_type": "code",
   "execution_count": 36,
   "metadata": {},
   "outputs": [],
   "source": [
    "diff2 = pred2-targ2"
   ]
  },
  {
   "cell_type": "code",
   "execution_count": 37,
   "metadata": {},
   "outputs": [
    {
     "data": {
      "text/plain": [
       "tensor([  24.9951,  -39.2794,    0.8125,   -1.2459,   25.0551,    2.3219,\n",
       "           0.7811,  -81.1784,    4.1381,  -12.6560,  -10.4823,   -7.2093,\n",
       "           1.2963,    7.0157, -115.2711,   25.5493,  -34.2779,   13.0562,\n",
       "          46.7347,   22.5223,   -0.4805,   -3.6075,   24.6229,   12.6327,\n",
       "           0.1199])"
      ]
     },
     "execution_count": 37,
     "metadata": {},
     "output_type": "execute_result"
    }
   ],
   "source": [
    "diff2"
   ]
  },
  {
   "cell_type": "code",
   "execution_count": 38,
   "metadata": {},
   "outputs": [],
   "source": [
    "prct2 = targ2/pred2*100"
   ]
  },
  {
   "cell_type": "code",
   "execution_count": 39,
   "metadata": {},
   "outputs": [
    {
     "data": {
      "text/plain": [
       "tensor([  50.0049, 5550.9819,   32.9897,   -3.3171,   21.8374,   96.2744,\n",
       "          20.3848,  381.6583,   32.5834,  116.3633,  135.5120,  108.7078,\n",
       "          67.5619,   74.0311,  431.9165,    1.9194,  142.4640,   51.7442,\n",
       "          24.2975,   18.1671,  131.6219,  359.0717,    1.9902,   61.2883,\n",
       "          25.0174])"
      ]
     },
     "execution_count": 39,
     "metadata": {},
     "output_type": "execute_result"
    }
   ],
   "source": [
    "prct2"
   ]
  },
  {
   "cell_type": "code",
   "execution_count": 40,
   "metadata": {},
   "outputs": [],
   "source": [
    "results2 = pd.DataFrame(data = np.column_stack((targ2.numpy(),pred2.numpy(),diff2.numpy(),prct2.numpy())), columns = [\"Targets2\",\"Predictions2\",\"Difference2\",\"Percentage2\"])"
   ]
  },
  {
   "cell_type": "code",
   "execution_count": 41,
   "metadata": {},
   "outputs": [
    {
     "data": {
      "text/html": [
       "<div>\n",
       "<style scoped>\n",
       "    .dataframe tbody tr th:only-of-type {\n",
       "        vertical-align: middle;\n",
       "    }\n",
       "\n",
       "    .dataframe tbody tr th {\n",
       "        vertical-align: top;\n",
       "    }\n",
       "\n",
       "    .dataframe thead th {\n",
       "        text-align: right;\n",
       "    }\n",
       "</style>\n",
       "<table border=\"1\" class=\"dataframe\">\n",
       "  <thead>\n",
       "    <tr style=\"text-align: right;\">\n",
       "      <th></th>\n",
       "      <th>Targets2</th>\n",
       "      <th>Predictions2</th>\n",
       "      <th>Difference2</th>\n",
       "      <th>Percentage2</th>\n",
       "    </tr>\n",
       "  </thead>\n",
       "  <tbody>\n",
       "    <tr>\n",
       "      <th>0</th>\n",
       "      <td>25.00</td>\n",
       "      <td>49.995117</td>\n",
       "      <td>24.995117</td>\n",
       "      <td>50.004883</td>\n",
       "    </tr>\n",
       "    <tr>\n",
       "      <th>1</th>\n",
       "      <td>40.00</td>\n",
       "      <td>0.720593</td>\n",
       "      <td>-39.279408</td>\n",
       "      <td>5550.981934</td>\n",
       "    </tr>\n",
       "    <tr>\n",
       "      <th>2</th>\n",
       "      <td>0.40</td>\n",
       "      <td>1.212498</td>\n",
       "      <td>0.812498</td>\n",
       "      <td>32.989738</td>\n",
       "    </tr>\n",
       "    <tr>\n",
       "      <th>3</th>\n",
       "      <td>0.04</td>\n",
       "      <td>-1.205866</td>\n",
       "      <td>-1.245866</td>\n",
       "      <td>-3.317117</td>\n",
       "    </tr>\n",
       "    <tr>\n",
       "      <th>4</th>\n",
       "      <td>7.00</td>\n",
       "      <td>32.055065</td>\n",
       "      <td>25.055065</td>\n",
       "      <td>21.837421</td>\n",
       "    </tr>\n",
       "    <tr>\n",
       "      <th>5</th>\n",
       "      <td>60.00</td>\n",
       "      <td>62.321884</td>\n",
       "      <td>2.321884</td>\n",
       "      <td>96.274368</td>\n",
       "    </tr>\n",
       "    <tr>\n",
       "      <th>6</th>\n",
       "      <td>0.20</td>\n",
       "      <td>0.981124</td>\n",
       "      <td>0.781124</td>\n",
       "      <td>20.384785</td>\n",
       "    </tr>\n",
       "    <tr>\n",
       "      <th>7</th>\n",
       "      <td>110.00</td>\n",
       "      <td>28.821592</td>\n",
       "      <td>-81.178406</td>\n",
       "      <td>381.658295</td>\n",
       "    </tr>\n",
       "    <tr>\n",
       "      <th>8</th>\n",
       "      <td>2.00</td>\n",
       "      <td>6.138103</td>\n",
       "      <td>4.138103</td>\n",
       "      <td>32.583355</td>\n",
       "    </tr>\n",
       "    <tr>\n",
       "      <th>9</th>\n",
       "      <td>90.00</td>\n",
       "      <td>77.344009</td>\n",
       "      <td>-12.655991</td>\n",
       "      <td>116.363251</td>\n",
       "    </tr>\n",
       "    <tr>\n",
       "      <th>10</th>\n",
       "      <td>40.00</td>\n",
       "      <td>29.517675</td>\n",
       "      <td>-10.482325</td>\n",
       "      <td>135.512024</td>\n",
       "    </tr>\n",
       "    <tr>\n",
       "      <th>11</th>\n",
       "      <td>90.00</td>\n",
       "      <td>82.790726</td>\n",
       "      <td>-7.209274</td>\n",
       "      <td>108.707832</td>\n",
       "    </tr>\n",
       "    <tr>\n",
       "      <th>12</th>\n",
       "      <td>2.70</td>\n",
       "      <td>3.996338</td>\n",
       "      <td>1.296338</td>\n",
       "      <td>67.561852</td>\n",
       "    </tr>\n",
       "    <tr>\n",
       "      <th>13</th>\n",
       "      <td>20.00</td>\n",
       "      <td>27.015665</td>\n",
       "      <td>7.015665</td>\n",
       "      <td>74.031120</td>\n",
       "    </tr>\n",
       "    <tr>\n",
       "      <th>14</th>\n",
       "      <td>150.00</td>\n",
       "      <td>34.728935</td>\n",
       "      <td>-115.271065</td>\n",
       "      <td>431.916473</td>\n",
       "    </tr>\n",
       "    <tr>\n",
       "      <th>15</th>\n",
       "      <td>0.50</td>\n",
       "      <td>26.049314</td>\n",
       "      <td>25.549314</td>\n",
       "      <td>1.919436</td>\n",
       "    </tr>\n",
       "    <tr>\n",
       "      <th>16</th>\n",
       "      <td>115.00</td>\n",
       "      <td>80.722145</td>\n",
       "      <td>-34.277855</td>\n",
       "      <td>142.464005</td>\n",
       "    </tr>\n",
       "    <tr>\n",
       "      <th>17</th>\n",
       "      <td>14.00</td>\n",
       "      <td>27.056196</td>\n",
       "      <td>13.056196</td>\n",
       "      <td>51.744156</td>\n",
       "    </tr>\n",
       "    <tr>\n",
       "      <th>18</th>\n",
       "      <td>15.00</td>\n",
       "      <td>61.734711</td>\n",
       "      <td>46.734711</td>\n",
       "      <td>24.297514</td>\n",
       "    </tr>\n",
       "    <tr>\n",
       "      <th>19</th>\n",
       "      <td>5.00</td>\n",
       "      <td>27.522287</td>\n",
       "      <td>22.522287</td>\n",
       "      <td>18.167095</td>\n",
       "    </tr>\n",
       "    <tr>\n",
       "      <th>20</th>\n",
       "      <td>2.00</td>\n",
       "      <td>1.519504</td>\n",
       "      <td>-0.480496</td>\n",
       "      <td>131.621902</td>\n",
       "    </tr>\n",
       "    <tr>\n",
       "      <th>21</th>\n",
       "      <td>5.00</td>\n",
       "      <td>1.392480</td>\n",
       "      <td>-3.607520</td>\n",
       "      <td>359.071686</td>\n",
       "    </tr>\n",
       "    <tr>\n",
       "      <th>22</th>\n",
       "      <td>0.50</td>\n",
       "      <td>25.122858</td>\n",
       "      <td>24.622858</td>\n",
       "      <td>1.990219</td>\n",
       "    </tr>\n",
       "    <tr>\n",
       "      <th>23</th>\n",
       "      <td>20.00</td>\n",
       "      <td>32.632652</td>\n",
       "      <td>12.632652</td>\n",
       "      <td>61.288307</td>\n",
       "    </tr>\n",
       "    <tr>\n",
       "      <th>24</th>\n",
       "      <td>0.04</td>\n",
       "      <td>0.159889</td>\n",
       "      <td>0.119889</td>\n",
       "      <td>25.017395</td>\n",
       "    </tr>\n",
       "  </tbody>\n",
       "</table>\n",
       "</div>"
      ],
      "text/plain": [
       "    Targets2  Predictions2  Difference2  Percentage2\n",
       "0      25.00     49.995117    24.995117    50.004883\n",
       "1      40.00      0.720593   -39.279408  5550.981934\n",
       "2       0.40      1.212498     0.812498    32.989738\n",
       "3       0.04     -1.205866    -1.245866    -3.317117\n",
       "4       7.00     32.055065    25.055065    21.837421\n",
       "5      60.00     62.321884     2.321884    96.274368\n",
       "6       0.20      0.981124     0.781124    20.384785\n",
       "7     110.00     28.821592   -81.178406   381.658295\n",
       "8       2.00      6.138103     4.138103    32.583355\n",
       "9      90.00     77.344009   -12.655991   116.363251\n",
       "10     40.00     29.517675   -10.482325   135.512024\n",
       "11     90.00     82.790726    -7.209274   108.707832\n",
       "12      2.70      3.996338     1.296338    67.561852\n",
       "13     20.00     27.015665     7.015665    74.031120\n",
       "14    150.00     34.728935  -115.271065   431.916473\n",
       "15      0.50     26.049314    25.549314     1.919436\n",
       "16    115.00     80.722145   -34.277855   142.464005\n",
       "17     14.00     27.056196    13.056196    51.744156\n",
       "18     15.00     61.734711    46.734711    24.297514\n",
       "19      5.00     27.522287    22.522287    18.167095\n",
       "20      2.00      1.519504    -0.480496   131.621902\n",
       "21      5.00      1.392480    -3.607520   359.071686\n",
       "22      0.50     25.122858    24.622858     1.990219\n",
       "23     20.00     32.632652    12.632652    61.288307\n",
       "24      0.04      0.159889     0.119889    25.017395"
      ]
     },
     "execution_count": 41,
     "metadata": {},
     "output_type": "execute_result"
    }
   ],
   "source": [
    "results2.head(25)"
   ]
  },
  {
   "cell_type": "markdown",
   "metadata": {},
   "source": [
    "## Conclusions"
   ]
  },
  {
   "cell_type": "markdown",
   "metadata": {},
   "source": [
    "From the initial results, the findings using this particular data set suggest a promising start for deep learning in this area of chemistry. The first dependent variable \"H2 Equivalence\" was predicted considerably more accurately in contrast to the second dependent variable \"Time (hr)\". This is more than likely due to the smaller values associated with the first dependent variable, returning almost 50% prediction accuracy (where the value for 'percentage1' is within 10% of 100). As for the second dependent variable, the large differences in values for \"Time (hr)\" result in a significantly lower prediction accuracy, where only 2 of the returned values were within the desired range.\n",
    "\n",
    "While this is a good start, the prediction accuracy needs to be improved considerably. This could be achieved with a much larger data set, as the current information is more than likely too small with not enough variations. However, if this does not improve the prediction accuracy it is possible that the model is being underfit and an alternate machine learning method may need to be used.\n",
    "\n",
    "While the ultimate goal mentioned in the introduction is a long way from being achieved, the first steps have been taken and initial results would suggest that it is definitely possible. A singificant amount of further knowledge is required in order to achieve this long term goal, which would not only accelerate this area of chemistry but also completely change the field as we know it.    "
   ]
  }
 ],
 "metadata": {
  "kernelspec": {
   "display_name": "Python 3",
   "language": "python",
   "name": "python3"
  },
  "language_info": {
   "codemirror_mode": {
    "name": "ipython",
    "version": 3
   },
   "file_extension": ".py",
   "mimetype": "text/x-python",
   "name": "python",
   "nbconvert_exporter": "python",
   "pygments_lexer": "ipython3",
   "version": "3.7.0"
  }
 },
 "nbformat": 4,
 "nbformat_minor": 2
}
