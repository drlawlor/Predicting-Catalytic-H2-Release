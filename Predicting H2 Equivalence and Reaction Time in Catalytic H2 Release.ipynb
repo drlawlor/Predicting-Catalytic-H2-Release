{
 "cells": [
  {
   "cell_type": "markdown",
   "metadata": {},
   "source": [
    "# Predicting H2 Equivalence and Reaction Time in Catalytic H2 Release"
   ]
  },
  {
   "cell_type": "markdown",
   "metadata": {},
   "source": [
    "## Introduction"
   ]
  },
  {
   "cell_type": "markdown",
   "metadata": {},
   "source": [
    "This data set is taken from some of the research carried out during my Ph.D in chemistry. It details the various reaction conditions used in the catalytic release of hydrogen as an alternative and more environmentally friendly fuel source. While this research gave promising results, the reaction conditions require further optimisation, which means countless more experiments and time spent in the laboratory, changing one small reaction parameter at a time. Machine learning negates the need for this lengthy process and is therefore an ideal tool for assisting in such chemical problems. It has recently been utilised in predicting reaction times and conditions in very specific types of chemical reactions. It was my desire to apply machine learning to this particular data set and analyse its performance in this topical area of chemistry. By learning from such a data set, the ultimate goal is to be able to input the chemical structure of a catalyst and for the computer to return the various reaction conditions required for an optimal reaction. This notebook is my first attempt at machine learning and reports my inital findings using the open source library fastai, which will be further built on in the coming months.              "
   ]
  },
  {
   "cell_type": "markdown",
   "metadata": {},
   "source": [
    "## Data Manipulation"
   ]
  },
  {
   "cell_type": "markdown",
   "metadata": {},
   "source": [
    "### Loading Libraries and Data File"
   ]
  },
  {
   "cell_type": "code",
   "execution_count": 472,
   "metadata": {},
   "outputs": [],
   "source": [
    "import pandas\n",
    "import numpy as np\n",
    "import seaborn as sns\n",
    "import matplotlib.pyplot as plt\n",
    "%matplotlib inline\n",
    "sns.set()\n",
    "\n",
    "from fastai import *\n",
    "from fastai.tabular import *\n",
    "\n",
    "from sklearn.model_selection import train_test_split"
   ]
  },
  {
   "cell_type": "code",
   "execution_count": 473,
   "metadata": {},
   "outputs": [
    {
     "name": "stdout",
     "output_type": "stream",
     "text": [
      "(250, 19)\n",
      "<class 'pandas.core.frame.DataFrame'>\n",
      "RangeIndex: 250 entries, 0 to 249\n",
      "Data columns (total 19 columns):\n",
      "Reaction                   250 non-null object\n",
      "Code                       250 non-null object\n",
      "MF                         250 non-null object\n",
      "MW                         250 non-null float64\n",
      "Mol Catalyst               250 non-null float64\n",
      "SMILES (Ligand)            250 non-null object\n",
      "Solvent Volume (mL)        250 non-null float64\n",
      "Catalyst Percentage (%)    250 non-null float64\n",
      "Substrate                  250 non-null object\n",
      "Substrate Weight (g)       250 non-null float64\n",
      "MF.1                       250 non-null object\n",
      "SMILES (Substrate)         250 non-null object\n",
      "Mol Substrate              250 non-null float64\n",
      "Temperature ©              250 non-null int64\n",
      "Solvent                    250 non-null object\n",
      "MF.2                       250 non-null object\n",
      "SMILES (Solvent)           250 non-null object\n",
      "Time (hr)                  250 non-null float64\n",
      "H2 Equivalence             250 non-null float64\n",
      "dtypes: float64(8), int64(1), object(10)\n",
      "memory usage: 37.2+ KB\n"
     ]
    }
   ],
   "source": [
    "df = pd.read_csv(\"Data/H2_Database2csv.csv\")\n",
    "print(df.shape)\n",
    "df.info()"
   ]
  },
  {
   "cell_type": "code",
   "execution_count": 474,
   "metadata": {},
   "outputs": [
    {
     "data": {
      "text/html": [
       "<div>\n",
       "<style scoped>\n",
       "    .dataframe tbody tr th:only-of-type {\n",
       "        vertical-align: middle;\n",
       "    }\n",
       "\n",
       "    .dataframe tbody tr th {\n",
       "        vertical-align: top;\n",
       "    }\n",
       "\n",
       "    .dataframe thead th {\n",
       "        text-align: right;\n",
       "    }\n",
       "</style>\n",
       "<table border=\"1\" class=\"dataframe\">\n",
       "  <thead>\n",
       "    <tr style=\"text-align: right;\">\n",
       "      <th></th>\n",
       "      <th>Reaction</th>\n",
       "      <th>Code</th>\n",
       "      <th>MF</th>\n",
       "      <th>MW</th>\n",
       "      <th>Mol Catalyst</th>\n",
       "      <th>SMILES (Ligand)</th>\n",
       "      <th>Solvent Volume (mL)</th>\n",
       "      <th>Catalyst Percentage (%)</th>\n",
       "      <th>Substrate</th>\n",
       "      <th>Substrate Weight (g)</th>\n",
       "      <th>MF.1</th>\n",
       "      <th>SMILES (Substrate)</th>\n",
       "      <th>Mol Substrate</th>\n",
       "      <th>Temperature ©</th>\n",
       "      <th>Solvent</th>\n",
       "      <th>MF.2</th>\n",
       "      <th>SMILES (Solvent)</th>\n",
       "      <th>Time (hr)</th>\n",
       "      <th>H2 Equivalence</th>\n",
       "    </tr>\n",
       "  </thead>\n",
       "  <tbody>\n",
       "    <tr>\n",
       "      <th>0</th>\n",
       "      <td>PR Old</td>\n",
       "      <td>DS20_RuOTf</td>\n",
       "      <td>C28H31N2O3SF3Ru</td>\n",
       "      <td>633.69</td>\n",
       "      <td>0.000162</td>\n",
       "      <td>C/C(NC1=C(C)C=CC=C1C)=C/C(C)=NC2=C(C)C=CC=C2C</td>\n",
       "      <td>10.0</td>\n",
       "      <td>0.5</td>\n",
       "      <td>AB</td>\n",
       "      <td>1.0</td>\n",
       "      <td>BH6N</td>\n",
       "      <td>[BH3-][NH3+]</td>\n",
       "      <td>0.032394</td>\n",
       "      <td>22</td>\n",
       "      <td>THF</td>\n",
       "      <td>C4H8O</td>\n",
       "      <td>C1CCOC1</td>\n",
       "      <td>60.0</td>\n",
       "      <td>1.10</td>\n",
       "    </tr>\n",
       "    <tr>\n",
       "      <th>1</th>\n",
       "      <td>PR Old</td>\n",
       "      <td>None</td>\n",
       "      <td>None</td>\n",
       "      <td>0.00</td>\n",
       "      <td>0.000000</td>\n",
       "      <td>None</td>\n",
       "      <td>10.0</td>\n",
       "      <td>0.0</td>\n",
       "      <td>AB</td>\n",
       "      <td>1.0</td>\n",
       "      <td>BH6N</td>\n",
       "      <td>[BH3-][NH3+]</td>\n",
       "      <td>0.032394</td>\n",
       "      <td>22</td>\n",
       "      <td>THF</td>\n",
       "      <td>C4H8O</td>\n",
       "      <td>C1CCOC1</td>\n",
       "      <td>60.0</td>\n",
       "      <td>0.07</td>\n",
       "    </tr>\n",
       "    <tr>\n",
       "      <th>2</th>\n",
       "      <td>PR Old</td>\n",
       "      <td>DS20_RuOTf</td>\n",
       "      <td>C28H31N2O3SF3Ru</td>\n",
       "      <td>633.69</td>\n",
       "      <td>0.000162</td>\n",
       "      <td>C/C(NC1=C(C)C=CC=C1C)=C/C(C)=NC2=C(C)C=CC=C2C</td>\n",
       "      <td>10.0</td>\n",
       "      <td>0.5</td>\n",
       "      <td>AB</td>\n",
       "      <td>1.0</td>\n",
       "      <td>BH6N</td>\n",
       "      <td>[BH3-][NH3+]</td>\n",
       "      <td>0.032394</td>\n",
       "      <td>42</td>\n",
       "      <td>THF</td>\n",
       "      <td>C4H8O</td>\n",
       "      <td>C1CCOC1</td>\n",
       "      <td>6.0</td>\n",
       "      <td>1.20</td>\n",
       "    </tr>\n",
       "    <tr>\n",
       "      <th>3</th>\n",
       "      <td>PR Old</td>\n",
       "      <td>None</td>\n",
       "      <td>None</td>\n",
       "      <td>0.00</td>\n",
       "      <td>0.000000</td>\n",
       "      <td>None</td>\n",
       "      <td>10.0</td>\n",
       "      <td>0.0</td>\n",
       "      <td>AB</td>\n",
       "      <td>1.0</td>\n",
       "      <td>BH6N</td>\n",
       "      <td>[BH3-][NH3+]</td>\n",
       "      <td>0.032394</td>\n",
       "      <td>42</td>\n",
       "      <td>THF</td>\n",
       "      <td>C4H8O</td>\n",
       "      <td>C1CCOC1</td>\n",
       "      <td>24.0</td>\n",
       "      <td>1.20</td>\n",
       "    </tr>\n",
       "    <tr>\n",
       "      <th>4</th>\n",
       "      <td>PR Old</td>\n",
       "      <td>None</td>\n",
       "      <td>None</td>\n",
       "      <td>0.00</td>\n",
       "      <td>0.000000</td>\n",
       "      <td>None</td>\n",
       "      <td>10.0</td>\n",
       "      <td>0.0</td>\n",
       "      <td>AB</td>\n",
       "      <td>1.0</td>\n",
       "      <td>BH6N</td>\n",
       "      <td>[BH3-][NH3+]</td>\n",
       "      <td>0.032394</td>\n",
       "      <td>42</td>\n",
       "      <td>THF</td>\n",
       "      <td>C4H8O</td>\n",
       "      <td>C1CCOC1</td>\n",
       "      <td>60.0</td>\n",
       "      <td>1.30</td>\n",
       "    </tr>\n",
       "  </tbody>\n",
       "</table>\n",
       "</div>"
      ],
      "text/plain": [
       "  Reaction        Code               MF      MW  Mol Catalyst  \\\n",
       "0   PR Old  DS20_RuOTf  C28H31N2O3SF3Ru  633.69      0.000162   \n",
       "1   PR Old        None             None    0.00      0.000000   \n",
       "2   PR Old  DS20_RuOTf  C28H31N2O3SF3Ru  633.69      0.000162   \n",
       "3   PR Old        None             None    0.00      0.000000   \n",
       "4   PR Old        None             None    0.00      0.000000   \n",
       "\n",
       "                                 SMILES (Ligand)  Solvent Volume (mL)  \\\n",
       "0  C/C(NC1=C(C)C=CC=C1C)=C/C(C)=NC2=C(C)C=CC=C2C                 10.0   \n",
       "1                                           None                 10.0   \n",
       "2  C/C(NC1=C(C)C=CC=C1C)=C/C(C)=NC2=C(C)C=CC=C2C                 10.0   \n",
       "3                                           None                 10.0   \n",
       "4                                           None                 10.0   \n",
       "\n",
       "   Catalyst Percentage (%) Substrate  Substrate Weight (g)  MF.1  \\\n",
       "0                      0.5        AB                   1.0  BH6N   \n",
       "1                      0.0        AB                   1.0  BH6N   \n",
       "2                      0.5        AB                   1.0  BH6N   \n",
       "3                      0.0        AB                   1.0  BH6N   \n",
       "4                      0.0        AB                   1.0  BH6N   \n",
       "\n",
       "  SMILES (Substrate)  Mol Substrate  Temperature © Solvent   MF.2  \\\n",
       "0       [BH3-][NH3+]       0.032394             22     THF  C4H8O   \n",
       "1       [BH3-][NH3+]       0.032394             22     THF  C4H8O   \n",
       "2       [BH3-][NH3+]       0.032394             42     THF  C4H8O   \n",
       "3       [BH3-][NH3+]       0.032394             42     THF  C4H8O   \n",
       "4       [BH3-][NH3+]       0.032394             42     THF  C4H8O   \n",
       "\n",
       "  SMILES (Solvent)  Time (hr)  H2 Equivalence  \n",
       "0          C1CCOC1       60.0            1.10  \n",
       "1          C1CCOC1       60.0            0.07  \n",
       "2          C1CCOC1        6.0            1.20  \n",
       "3          C1CCOC1       24.0            1.20  \n",
       "4          C1CCOC1       60.0            1.30  "
      ]
     },
     "execution_count": 474,
     "metadata": {},
     "output_type": "execute_result"
    }
   ],
   "source": [
    "df.head()"
   ]
  },
  {
   "cell_type": "code",
   "execution_count": 475,
   "metadata": {},
   "outputs": [
    {
     "data": {
      "text/html": [
       "<div>\n",
       "<style scoped>\n",
       "    .dataframe tbody tr th:only-of-type {\n",
       "        vertical-align: middle;\n",
       "    }\n",
       "\n",
       "    .dataframe tbody tr th {\n",
       "        vertical-align: top;\n",
       "    }\n",
       "\n",
       "    .dataframe thead th {\n",
       "        text-align: right;\n",
       "    }\n",
       "</style>\n",
       "<table border=\"1\" class=\"dataframe\">\n",
       "  <thead>\n",
       "    <tr style=\"text-align: right;\">\n",
       "      <th></th>\n",
       "      <th>Code</th>\n",
       "      <th>MF</th>\n",
       "      <th>MW</th>\n",
       "      <th>Mol Catalyst</th>\n",
       "      <th>SMILES (Ligand)</th>\n",
       "      <th>Solvent Volume (mL)</th>\n",
       "      <th>Catalyst Percentage (%)</th>\n",
       "      <th>Substrate</th>\n",
       "      <th>Substrate Weight (g)</th>\n",
       "      <th>MF.1</th>\n",
       "      <th>SMILES (Substrate)</th>\n",
       "      <th>Mol Substrate</th>\n",
       "      <th>Temperature ©</th>\n",
       "      <th>Solvent</th>\n",
       "      <th>MF.2</th>\n",
       "      <th>SMILES (Solvent)</th>\n",
       "      <th>Time (hr)</th>\n",
       "      <th>H2 Equivalence</th>\n",
       "    </tr>\n",
       "  </thead>\n",
       "  <tbody>\n",
       "    <tr>\n",
       "      <th>0</th>\n",
       "      <td>DS20_RuOTf</td>\n",
       "      <td>C28H31N2O3SF3Ru</td>\n",
       "      <td>633.69</td>\n",
       "      <td>0.000162</td>\n",
       "      <td>C/C(NC1=C(C)C=CC=C1C)=C/C(C)=NC2=C(C)C=CC=C2C</td>\n",
       "      <td>10.0</td>\n",
       "      <td>0.5</td>\n",
       "      <td>AB</td>\n",
       "      <td>1.0</td>\n",
       "      <td>BH6N</td>\n",
       "      <td>[BH3-][NH3+]</td>\n",
       "      <td>0.032394</td>\n",
       "      <td>22</td>\n",
       "      <td>THF</td>\n",
       "      <td>C4H8O</td>\n",
       "      <td>C1CCOC1</td>\n",
       "      <td>60.0</td>\n",
       "      <td>1.10</td>\n",
       "    </tr>\n",
       "    <tr>\n",
       "      <th>1</th>\n",
       "      <td>None</td>\n",
       "      <td>None</td>\n",
       "      <td>0.00</td>\n",
       "      <td>0.000000</td>\n",
       "      <td>None</td>\n",
       "      <td>10.0</td>\n",
       "      <td>0.0</td>\n",
       "      <td>AB</td>\n",
       "      <td>1.0</td>\n",
       "      <td>BH6N</td>\n",
       "      <td>[BH3-][NH3+]</td>\n",
       "      <td>0.032394</td>\n",
       "      <td>22</td>\n",
       "      <td>THF</td>\n",
       "      <td>C4H8O</td>\n",
       "      <td>C1CCOC1</td>\n",
       "      <td>60.0</td>\n",
       "      <td>0.07</td>\n",
       "    </tr>\n",
       "    <tr>\n",
       "      <th>2</th>\n",
       "      <td>DS20_RuOTf</td>\n",
       "      <td>C28H31N2O3SF3Ru</td>\n",
       "      <td>633.69</td>\n",
       "      <td>0.000162</td>\n",
       "      <td>C/C(NC1=C(C)C=CC=C1C)=C/C(C)=NC2=C(C)C=CC=C2C</td>\n",
       "      <td>10.0</td>\n",
       "      <td>0.5</td>\n",
       "      <td>AB</td>\n",
       "      <td>1.0</td>\n",
       "      <td>BH6N</td>\n",
       "      <td>[BH3-][NH3+]</td>\n",
       "      <td>0.032394</td>\n",
       "      <td>42</td>\n",
       "      <td>THF</td>\n",
       "      <td>C4H8O</td>\n",
       "      <td>C1CCOC1</td>\n",
       "      <td>6.0</td>\n",
       "      <td>1.20</td>\n",
       "    </tr>\n",
       "    <tr>\n",
       "      <th>3</th>\n",
       "      <td>None</td>\n",
       "      <td>None</td>\n",
       "      <td>0.00</td>\n",
       "      <td>0.000000</td>\n",
       "      <td>None</td>\n",
       "      <td>10.0</td>\n",
       "      <td>0.0</td>\n",
       "      <td>AB</td>\n",
       "      <td>1.0</td>\n",
       "      <td>BH6N</td>\n",
       "      <td>[BH3-][NH3+]</td>\n",
       "      <td>0.032394</td>\n",
       "      <td>42</td>\n",
       "      <td>THF</td>\n",
       "      <td>C4H8O</td>\n",
       "      <td>C1CCOC1</td>\n",
       "      <td>24.0</td>\n",
       "      <td>1.20</td>\n",
       "    </tr>\n",
       "    <tr>\n",
       "      <th>4</th>\n",
       "      <td>None</td>\n",
       "      <td>None</td>\n",
       "      <td>0.00</td>\n",
       "      <td>0.000000</td>\n",
       "      <td>None</td>\n",
       "      <td>10.0</td>\n",
       "      <td>0.0</td>\n",
       "      <td>AB</td>\n",
       "      <td>1.0</td>\n",
       "      <td>BH6N</td>\n",
       "      <td>[BH3-][NH3+]</td>\n",
       "      <td>0.032394</td>\n",
       "      <td>42</td>\n",
       "      <td>THF</td>\n",
       "      <td>C4H8O</td>\n",
       "      <td>C1CCOC1</td>\n",
       "      <td>60.0</td>\n",
       "      <td>1.30</td>\n",
       "    </tr>\n",
       "  </tbody>\n",
       "</table>\n",
       "</div>"
      ],
      "text/plain": [
       "         Code               MF      MW  Mol Catalyst  \\\n",
       "0  DS20_RuOTf  C28H31N2O3SF3Ru  633.69      0.000162   \n",
       "1        None             None    0.00      0.000000   \n",
       "2  DS20_RuOTf  C28H31N2O3SF3Ru  633.69      0.000162   \n",
       "3        None             None    0.00      0.000000   \n",
       "4        None             None    0.00      0.000000   \n",
       "\n",
       "                                 SMILES (Ligand)  Solvent Volume (mL)  \\\n",
       "0  C/C(NC1=C(C)C=CC=C1C)=C/C(C)=NC2=C(C)C=CC=C2C                 10.0   \n",
       "1                                           None                 10.0   \n",
       "2  C/C(NC1=C(C)C=CC=C1C)=C/C(C)=NC2=C(C)C=CC=C2C                 10.0   \n",
       "3                                           None                 10.0   \n",
       "4                                           None                 10.0   \n",
       "\n",
       "   Catalyst Percentage (%) Substrate  Substrate Weight (g)  MF.1  \\\n",
       "0                      0.5        AB                   1.0  BH6N   \n",
       "1                      0.0        AB                   1.0  BH6N   \n",
       "2                      0.5        AB                   1.0  BH6N   \n",
       "3                      0.0        AB                   1.0  BH6N   \n",
       "4                      0.0        AB                   1.0  BH6N   \n",
       "\n",
       "  SMILES (Substrate)  Mol Substrate  Temperature © Solvent   MF.2  \\\n",
       "0       [BH3-][NH3+]       0.032394             22     THF  C4H8O   \n",
       "1       [BH3-][NH3+]       0.032394             22     THF  C4H8O   \n",
       "2       [BH3-][NH3+]       0.032394             42     THF  C4H8O   \n",
       "3       [BH3-][NH3+]       0.032394             42     THF  C4H8O   \n",
       "4       [BH3-][NH3+]       0.032394             42     THF  C4H8O   \n",
       "\n",
       "  SMILES (Solvent)  Time (hr)  H2 Equivalence  \n",
       "0          C1CCOC1       60.0            1.10  \n",
       "1          C1CCOC1       60.0            0.07  \n",
       "2          C1CCOC1        6.0            1.20  \n",
       "3          C1CCOC1       24.0            1.20  \n",
       "4          C1CCOC1       60.0            1.30  "
      ]
     },
     "execution_count": 475,
     "metadata": {},
     "output_type": "execute_result"
    }
   ],
   "source": [
    "df = df.drop(columns=\"Reaction\")\n",
    "df.head()"
   ]
  },
  {
   "cell_type": "markdown",
   "metadata": {},
   "source": [
    "This data set contains 'None' values for empty row inputs which is not compatible with pandas, so these values must be converted to the more formally recognised 'NaN' notation:"
   ]
  },
  {
   "cell_type": "code",
   "execution_count": 476,
   "metadata": {},
   "outputs": [
    {
     "data": {
      "text/html": [
       "<div>\n",
       "<style scoped>\n",
       "    .dataframe tbody tr th:only-of-type {\n",
       "        vertical-align: middle;\n",
       "    }\n",
       "\n",
       "    .dataframe tbody tr th {\n",
       "        vertical-align: top;\n",
       "    }\n",
       "\n",
       "    .dataframe thead th {\n",
       "        text-align: right;\n",
       "    }\n",
       "</style>\n",
       "<table border=\"1\" class=\"dataframe\">\n",
       "  <thead>\n",
       "    <tr style=\"text-align: right;\">\n",
       "      <th></th>\n",
       "      <th>Code</th>\n",
       "      <th>MF</th>\n",
       "      <th>MW</th>\n",
       "      <th>Mol Catalyst</th>\n",
       "      <th>SMILES (Ligand)</th>\n",
       "      <th>Solvent Volume (mL)</th>\n",
       "      <th>Catalyst Percentage (%)</th>\n",
       "      <th>Substrate</th>\n",
       "      <th>Substrate Weight (g)</th>\n",
       "      <th>MF.1</th>\n",
       "      <th>SMILES (Substrate)</th>\n",
       "      <th>Mol Substrate</th>\n",
       "      <th>Temperature ©</th>\n",
       "      <th>Solvent</th>\n",
       "      <th>MF.2</th>\n",
       "      <th>SMILES (Solvent)</th>\n",
       "      <th>Time (hr)</th>\n",
       "      <th>H2 Equivalence</th>\n",
       "    </tr>\n",
       "  </thead>\n",
       "  <tbody>\n",
       "    <tr>\n",
       "      <th>0</th>\n",
       "      <td>DS20_RuOTf</td>\n",
       "      <td>C28H31N2O3SF3Ru</td>\n",
       "      <td>633.69</td>\n",
       "      <td>0.000162</td>\n",
       "      <td>C/C(NC1=C(C)C=CC=C1C)=C/C(C)=NC2=C(C)C=CC=C2C</td>\n",
       "      <td>10.0</td>\n",
       "      <td>0.5</td>\n",
       "      <td>AB</td>\n",
       "      <td>1.0</td>\n",
       "      <td>BH6N</td>\n",
       "      <td>[BH3-][NH3+]</td>\n",
       "      <td>0.032394</td>\n",
       "      <td>22</td>\n",
       "      <td>THF</td>\n",
       "      <td>C4H8O</td>\n",
       "      <td>C1CCOC1</td>\n",
       "      <td>60.0</td>\n",
       "      <td>1.10</td>\n",
       "    </tr>\n",
       "    <tr>\n",
       "      <th>1</th>\n",
       "      <td>NaN</td>\n",
       "      <td>NaN</td>\n",
       "      <td>0.00</td>\n",
       "      <td>0.000000</td>\n",
       "      <td>NaN</td>\n",
       "      <td>10.0</td>\n",
       "      <td>0.0</td>\n",
       "      <td>AB</td>\n",
       "      <td>1.0</td>\n",
       "      <td>BH6N</td>\n",
       "      <td>[BH3-][NH3+]</td>\n",
       "      <td>0.032394</td>\n",
       "      <td>22</td>\n",
       "      <td>THF</td>\n",
       "      <td>C4H8O</td>\n",
       "      <td>C1CCOC1</td>\n",
       "      <td>60.0</td>\n",
       "      <td>0.07</td>\n",
       "    </tr>\n",
       "    <tr>\n",
       "      <th>2</th>\n",
       "      <td>DS20_RuOTf</td>\n",
       "      <td>C28H31N2O3SF3Ru</td>\n",
       "      <td>633.69</td>\n",
       "      <td>0.000162</td>\n",
       "      <td>C/C(NC1=C(C)C=CC=C1C)=C/C(C)=NC2=C(C)C=CC=C2C</td>\n",
       "      <td>10.0</td>\n",
       "      <td>0.5</td>\n",
       "      <td>AB</td>\n",
       "      <td>1.0</td>\n",
       "      <td>BH6N</td>\n",
       "      <td>[BH3-][NH3+]</td>\n",
       "      <td>0.032394</td>\n",
       "      <td>42</td>\n",
       "      <td>THF</td>\n",
       "      <td>C4H8O</td>\n",
       "      <td>C1CCOC1</td>\n",
       "      <td>6.0</td>\n",
       "      <td>1.20</td>\n",
       "    </tr>\n",
       "    <tr>\n",
       "      <th>3</th>\n",
       "      <td>NaN</td>\n",
       "      <td>NaN</td>\n",
       "      <td>0.00</td>\n",
       "      <td>0.000000</td>\n",
       "      <td>NaN</td>\n",
       "      <td>10.0</td>\n",
       "      <td>0.0</td>\n",
       "      <td>AB</td>\n",
       "      <td>1.0</td>\n",
       "      <td>BH6N</td>\n",
       "      <td>[BH3-][NH3+]</td>\n",
       "      <td>0.032394</td>\n",
       "      <td>42</td>\n",
       "      <td>THF</td>\n",
       "      <td>C4H8O</td>\n",
       "      <td>C1CCOC1</td>\n",
       "      <td>24.0</td>\n",
       "      <td>1.20</td>\n",
       "    </tr>\n",
       "    <tr>\n",
       "      <th>4</th>\n",
       "      <td>NaN</td>\n",
       "      <td>NaN</td>\n",
       "      <td>0.00</td>\n",
       "      <td>0.000000</td>\n",
       "      <td>NaN</td>\n",
       "      <td>10.0</td>\n",
       "      <td>0.0</td>\n",
       "      <td>AB</td>\n",
       "      <td>1.0</td>\n",
       "      <td>BH6N</td>\n",
       "      <td>[BH3-][NH3+]</td>\n",
       "      <td>0.032394</td>\n",
       "      <td>42</td>\n",
       "      <td>THF</td>\n",
       "      <td>C4H8O</td>\n",
       "      <td>C1CCOC1</td>\n",
       "      <td>60.0</td>\n",
       "      <td>1.30</td>\n",
       "    </tr>\n",
       "  </tbody>\n",
       "</table>\n",
       "</div>"
      ],
      "text/plain": [
       "         Code               MF      MW  Mol Catalyst  \\\n",
       "0  DS20_RuOTf  C28H31N2O3SF3Ru  633.69      0.000162   \n",
       "1         NaN              NaN    0.00      0.000000   \n",
       "2  DS20_RuOTf  C28H31N2O3SF3Ru  633.69      0.000162   \n",
       "3         NaN              NaN    0.00      0.000000   \n",
       "4         NaN              NaN    0.00      0.000000   \n",
       "\n",
       "                                 SMILES (Ligand)  Solvent Volume (mL)  \\\n",
       "0  C/C(NC1=C(C)C=CC=C1C)=C/C(C)=NC2=C(C)C=CC=C2C                 10.0   \n",
       "1                                            NaN                 10.0   \n",
       "2  C/C(NC1=C(C)C=CC=C1C)=C/C(C)=NC2=C(C)C=CC=C2C                 10.0   \n",
       "3                                            NaN                 10.0   \n",
       "4                                            NaN                 10.0   \n",
       "\n",
       "   Catalyst Percentage (%) Substrate  Substrate Weight (g)  MF.1  \\\n",
       "0                      0.5        AB                   1.0  BH6N   \n",
       "1                      0.0        AB                   1.0  BH6N   \n",
       "2                      0.5        AB                   1.0  BH6N   \n",
       "3                      0.0        AB                   1.0  BH6N   \n",
       "4                      0.0        AB                   1.0  BH6N   \n",
       "\n",
       "  SMILES (Substrate)  Mol Substrate  Temperature © Solvent   MF.2  \\\n",
       "0       [BH3-][NH3+]       0.032394             22     THF  C4H8O   \n",
       "1       [BH3-][NH3+]       0.032394             22     THF  C4H8O   \n",
       "2       [BH3-][NH3+]       0.032394             42     THF  C4H8O   \n",
       "3       [BH3-][NH3+]       0.032394             42     THF  C4H8O   \n",
       "4       [BH3-][NH3+]       0.032394             42     THF  C4H8O   \n",
       "\n",
       "  SMILES (Solvent)  Time (hr)  H2 Equivalence  \n",
       "0          C1CCOC1       60.0            1.10  \n",
       "1          C1CCOC1       60.0            0.07  \n",
       "2          C1CCOC1        6.0            1.20  \n",
       "3          C1CCOC1       24.0            1.20  \n",
       "4          C1CCOC1       60.0            1.30  "
      ]
     },
     "execution_count": 476,
     "metadata": {},
     "output_type": "execute_result"
    }
   ],
   "source": [
    "df = df.replace(\"None\", np.nan)\n",
    "df.head()"
   ]
  },
  {
   "cell_type": "markdown",
   "metadata": {},
   "source": [
    "## Data Visualisation"
   ]
  },
  {
   "cell_type": "code",
   "execution_count": 566,
   "metadata": {},
   "outputs": [
    {
     "data": {
      "image/png": "[encoded data removed]",
      "text/plain": [
       "<Figure size 864x576 with 2 Axes>"
      ]
     },
     "metadata": {},
     "output_type": "display_data"
    }
   ],
   "source": [
    "f, ax = plt.subplots(figsize=(12,8))\n",
    "corr = df.corr()\n",
    "sns.heatmap(corr, xticklabels=corr.columns.values, yticklabels=corr.columns.values);"
   ]
  },
  {
   "cell_type": "markdown",
   "metadata": {},
   "source": [
    "Columns with high correlation:\n",
    "- Substrate Weight (g) vs Mol Substrate\n",
    "\n",
    "Columns with medium correlaton:\n",
    "- Catalyst Percentage (%) vs MW\n",
    "- Mol Catalyst vs MW\n",
    "- Solvent Volume (mL) vs Mol Substrate\n",
    "\n",
    "Columns with low correlation:\n",
    "- Mol Catalyst vs Solvent Volume (mL)\n",
    "- Mol Catalyst vs Substrate Weight (g)\n",
    "- Mol Catalyst vs Mol Substrate\n",
    "- H2 Equivalence vs MW\n",
    "- H2 Equivalence vs Catalyst Percentage (%)"
   ]
  },
  {
   "cell_type": "markdown",
   "metadata": {},
   "source": [
    "### Create Training and Test Sets"
   ]
  },
  {
   "cell_type": "markdown",
   "metadata": {},
   "source": [
    "This section takes advantage of fastai's useful split function which automatically separates the data into training and test sets, mitigating the need for manual assignment of the X and Y values. Such a separation of the data set is necessary as, while carrying out training on the entire data set would return accurate predictions, the learning algorithm would not be as accurate when predicitng similar future data sets. The test size in this instance was initially set to 20%, but it was found that further reduction to 10% resulted in a higher prediction accuracy.    \n"
   ]
  },
  {
   "cell_type": "code",
   "execution_count": 478,
   "metadata": {},
   "outputs": [],
   "source": [
    "df_train, df_test = train_test_split(df, test_size=0.1)"
   ]
  },
  {
   "cell_type": "code",
   "execution_count": 482,
   "metadata": {},
   "outputs": [
    {
     "data": {
      "text/html": [
       "<div>\n",
       "<style scoped>\n",
       "    .dataframe tbody tr th:only-of-type {\n",
       "        vertical-align: middle;\n",
       "    }\n",
       "\n",
       "    .dataframe tbody tr th {\n",
       "        vertical-align: top;\n",
       "    }\n",
       "\n",
       "    .dataframe thead th {\n",
       "        text-align: right;\n",
       "    }\n",
       "</style>\n",
       "<table border=\"1\" class=\"dataframe\">\n",
       "  <thead>\n",
       "    <tr style=\"text-align: right;\">\n",
       "      <th></th>\n",
       "      <th>Code</th>\n",
       "      <th>MF</th>\n",
       "      <th>MW</th>\n",
       "      <th>Mol Catalyst</th>\n",
       "      <th>SMILES (Ligand)</th>\n",
       "      <th>Solvent Volume (mL)</th>\n",
       "      <th>Catalyst Percentage (%)</th>\n",
       "      <th>Substrate</th>\n",
       "      <th>Substrate Weight (g)</th>\n",
       "      <th>MF.1</th>\n",
       "      <th>SMILES (Substrate)</th>\n",
       "      <th>Mol Substrate</th>\n",
       "      <th>Temperature ©</th>\n",
       "      <th>Solvent</th>\n",
       "      <th>MF.2</th>\n",
       "      <th>SMILES (Solvent)</th>\n",
       "      <th>Time (hr)</th>\n",
       "      <th>H2 Equivalence</th>\n",
       "    </tr>\n",
       "  </thead>\n",
       "  <tbody>\n",
       "    <tr>\n",
       "      <th>137</th>\n",
       "      <td>COC72_RuOTf</td>\n",
       "      <td>C26H27N2O3S3F3Ru</td>\n",
       "      <td>669.76</td>\n",
       "      <td>0.000320</td>\n",
       "      <td>CSC1=C(NC(\\C)=C/C(C)=NC2=C(SC)C=CC=C2)C=CC=C1</td>\n",
       "      <td>20.0</td>\n",
       "      <td>0.5</td>\n",
       "      <td>DMAB</td>\n",
       "      <td>3.77</td>\n",
       "      <td>C2H10BN</td>\n",
       "      <td>[BH3-][NH+](C)C</td>\n",
       "      <td>0.063985</td>\n",
       "      <td>40</td>\n",
       "      <td>DCE</td>\n",
       "      <td>C2H4Cl2</td>\n",
       "      <td>ClCCCl</td>\n",
       "      <td>6.00</td>\n",
       "      <td>0.96</td>\n",
       "    </tr>\n",
       "    <tr>\n",
       "      <th>148</th>\n",
       "      <td>COC72_RuOTf</td>\n",
       "      <td>C26H27N2O3S3F3Ru</td>\n",
       "      <td>669.76</td>\n",
       "      <td>0.000081</td>\n",
       "      <td>CSC1=C(NC(\\C)=C/C(C)=NC2=C(SC)C=CC=C2)C=CC=C1</td>\n",
       "      <td>2.5</td>\n",
       "      <td>0.5</td>\n",
       "      <td>AB</td>\n",
       "      <td>0.50</td>\n",
       "      <td>BH6N</td>\n",
       "      <td>[BH3-][NH3+]</td>\n",
       "      <td>0.016197</td>\n",
       "      <td>22</td>\n",
       "      <td>THF/H2O</td>\n",
       "      <td>C4H10O2</td>\n",
       "      <td>C1CCOC1 O</td>\n",
       "      <td>0.06</td>\n",
       "      <td>3.00</td>\n",
       "    </tr>\n",
       "    <tr>\n",
       "      <th>13</th>\n",
       "      <td>DS20_RuOTf</td>\n",
       "      <td>C28H31N2O3SF3Ru</td>\n",
       "      <td>633.69</td>\n",
       "      <td>0.000162</td>\n",
       "      <td>C/C(NC1=C(C)C=CC=C1C)=C/C(C)=NC2=C(C)C=CC=C2C</td>\n",
       "      <td>10.0</td>\n",
       "      <td>0.5</td>\n",
       "      <td>AB</td>\n",
       "      <td>1.00</td>\n",
       "      <td>BH6N</td>\n",
       "      <td>[BH3-][NH3+]</td>\n",
       "      <td>0.032394</td>\n",
       "      <td>42</td>\n",
       "      <td>BmimCl</td>\n",
       "      <td>C8H15ClN2</td>\n",
       "      <td>CCCC[N]1C=C[N+](=C1)C Cl</td>\n",
       "      <td>110.00</td>\n",
       "      <td>0.65</td>\n",
       "    </tr>\n",
       "    <tr>\n",
       "      <th>82</th>\n",
       "      <td>COC162_RuOTf</td>\n",
       "      <td>C32H39N2O3SF3Ru</td>\n",
       "      <td>689.79</td>\n",
       "      <td>0.000081</td>\n",
       "      <td>CCC1=CC=CC(=C1NC(\\C)=C/C(C)=NC2=C(CC)C=CC=C2CC)CC</td>\n",
       "      <td>5.0</td>\n",
       "      <td>0.5</td>\n",
       "      <td>DMAB</td>\n",
       "      <td>0.95</td>\n",
       "      <td>C2H10BN</td>\n",
       "      <td>[BH3-][NH+](C)C</td>\n",
       "      <td>0.016124</td>\n",
       "      <td>42</td>\n",
       "      <td>THF</td>\n",
       "      <td>C4H8O</td>\n",
       "      <td>C1CCOC1</td>\n",
       "      <td>0.40</td>\n",
       "      <td>0.95</td>\n",
       "    </tr>\n",
       "    <tr>\n",
       "      <th>74</th>\n",
       "      <td>COC72_RuOTf</td>\n",
       "      <td>C26H27N2O3S3F3Ru</td>\n",
       "      <td>669.76</td>\n",
       "      <td>0.000081</td>\n",
       "      <td>CSC1=C(NC(\\C)=C/C(C)=NC2=C(SC)C=CC=C2)C=CC=C1</td>\n",
       "      <td>5.0</td>\n",
       "      <td>0.5</td>\n",
       "      <td>DMAB</td>\n",
       "      <td>0.95</td>\n",
       "      <td>C2H10BN</td>\n",
       "      <td>[BH3-][NH+](C)C</td>\n",
       "      <td>0.016124</td>\n",
       "      <td>22</td>\n",
       "      <td>THF</td>\n",
       "      <td>C4H8O</td>\n",
       "      <td>C1CCOC1</td>\n",
       "      <td>1.00</td>\n",
       "      <td>0.90</td>\n",
       "    </tr>\n",
       "  </tbody>\n",
       "</table>\n",
       "</div>"
      ],
      "text/plain": [
       "             Code                MF      MW  Mol Catalyst  \\\n",
       "137   COC72_RuOTf  C26H27N2O3S3F3Ru  669.76      0.000320   \n",
       "148   COC72_RuOTf  C26H27N2O3S3F3Ru  669.76      0.000081   \n",
       "13     DS20_RuOTf   C28H31N2O3SF3Ru  633.69      0.000162   \n",
       "82   COC162_RuOTf   C32H39N2O3SF3Ru  689.79      0.000081   \n",
       "74    COC72_RuOTf  C26H27N2O3S3F3Ru  669.76      0.000081   \n",
       "\n",
       "                                       SMILES (Ligand)  Solvent Volume (mL)  \\\n",
       "137      CSC1=C(NC(\\C)=C/C(C)=NC2=C(SC)C=CC=C2)C=CC=C1                 20.0   \n",
       "148      CSC1=C(NC(\\C)=C/C(C)=NC2=C(SC)C=CC=C2)C=CC=C1                  2.5   \n",
       "13       C/C(NC1=C(C)C=CC=C1C)=C/C(C)=NC2=C(C)C=CC=C2C                 10.0   \n",
       "82   CCC1=CC=CC(=C1NC(\\C)=C/C(C)=NC2=C(CC)C=CC=C2CC)CC                  5.0   \n",
       "74       CSC1=C(NC(\\C)=C/C(C)=NC2=C(SC)C=CC=C2)C=CC=C1                  5.0   \n",
       "\n",
       "     Catalyst Percentage (%) Substrate  Substrate Weight (g)     MF.1  \\\n",
       "137                      0.5      DMAB                  3.77  C2H10BN   \n",
       "148                      0.5        AB                  0.50     BH6N   \n",
       "13                       0.5        AB                  1.00     BH6N   \n",
       "82                       0.5      DMAB                  0.95  C2H10BN   \n",
       "74                       0.5      DMAB                  0.95  C2H10BN   \n",
       "\n",
       "    SMILES (Substrate)  Mol Substrate  Temperature ©  Solvent       MF.2  \\\n",
       "137    [BH3-][NH+](C)C       0.063985             40      DCE    C2H4Cl2   \n",
       "148       [BH3-][NH3+]       0.016197             22  THF/H2O    C4H10O2   \n",
       "13        [BH3-][NH3+]       0.032394             42   BmimCl  C8H15ClN2   \n",
       "82     [BH3-][NH+](C)C       0.016124             42      THF      C4H8O   \n",
       "74     [BH3-][NH+](C)C       0.016124             22      THF      C4H8O   \n",
       "\n",
       "             SMILES (Solvent)  Time (hr)  H2 Equivalence  \n",
       "137                    ClCCCl       6.00            0.96  \n",
       "148                 C1CCOC1 O       0.06            3.00  \n",
       "13   CCCC[N]1C=C[N+](=C1)C Cl     110.00            0.65  \n",
       "82                    C1CCOC1       0.40            0.95  \n",
       "74                    C1CCOC1       1.00            0.90  "
      ]
     },
     "execution_count": 482,
     "metadata": {},
     "output_type": "execute_result"
    }
   ],
   "source": [
    "df_train.head()"
   ]
  },
  {
   "cell_type": "code",
   "execution_count": 483,
   "metadata": {},
   "outputs": [
    {
     "name": "stdout",
     "output_type": "stream",
     "text": [
      "Shape of training set: (225, 18)\n",
      "Shape of test set: (25, 18)\n"
     ]
    }
   ],
   "source": [
    "print(\"Shape of training set:\", df_train.shape)\n",
    "print(\"Shape of test set:\", df_test.shape)"
   ]
  },
  {
   "cell_type": "markdown",
   "metadata": {},
   "source": [
    "### Dealing with Categorical Variables"
   ]
  },
  {
   "cell_type": "markdown",
   "metadata": {},
   "source": [
    "Following the example given [here](https://docs.fast.ai/tabular.html), the 'dependent' variable was selected and the remaining columns in the data set separated into two variables: 'categorical' and 'continuous'. Once the dependent and categorical variables are assigned, fastai assumes the remaining column data to be continuous variables.    "
   ]
  },
  {
   "cell_type": "code",
   "execution_count": 506,
   "metadata": {},
   "outputs": [],
   "source": [
    "dep_var = \"H2 Equivalence\"\n",
    "cat_names = [\"Code\", \"MF\", \"SMILES (Ligand)\", \"Substrate\", \"MF.1\", \"SMILES (Substrate)\", \"Solvent\", \"MF.2\", \"SMILES (Solvent)\"]"
   ]
  },
  {
   "cell_type": "markdown",
   "metadata": {},
   "source": [
    "## Machine Learning with the First Dependent Variable"
   ]
  },
  {
   "cell_type": "markdown",
   "metadata": {},
   "source": [
    "Before applying machine learning to the data set, the missing 'NaN' values need to be replaced with something more compatable such as continuous variables, which will be normalised and then fed into the model:"
   ]
  },
  {
   "cell_type": "code",
   "execution_count": 507,
   "metadata": {},
   "outputs": [],
   "source": [
    "tfms1 = [FillMissing, Categorify]"
   ]
  },
  {
   "cell_type": "markdown",
   "metadata": {},
   "source": [
    "The now treated information is then passed to the following method which creates the DataBunch used for training: "
   ]
  },
  {
   "cell_type": "code",
   "execution_count": 508,
   "metadata": {},
   "outputs": [],
   "source": [
    "data1 = TabularDataBunch.from_df(\"./tmp\", df_train, df_test, dep_var1, tfms=tfms1, cat_names=cat_names)"
   ]
  },
  {
   "cell_type": "code",
   "execution_count": 509,
   "metadata": {},
   "outputs": [
    {
     "name": "stdout",
     "output_type": "stream",
     "text": [
      "['Temperature ©', 'Catalyst Percentage (%)', 'Mol Catalyst', 'MW', 'Substrate Weight (g)', 'Solvent Volume (mL)', 'Time (hr)', 'Mol Substrate']\n"
     ]
    }
   ],
   "source": [
    "print(data1.train_ds.cont_names)"
   ]
  },
  {
   "cell_type": "markdown",
   "metadata": {},
   "source": [
    "Now that the data set is ready for training, lets take a look at a sample of the data before creating a Learner model."
   ]
  },
  {
   "cell_type": "code",
   "execution_count": 510,
   "metadata": {},
   "outputs": [
    {
     "name": "stdout",
     "output_type": "stream",
     "text": [
      "[[33  4  6  1  1  4 15  5  1]\n",
      " [48 34 26  3  2  2 15  5  1]\n",
      " [16  1 27  3  2  2 15  5  1]\n",
      " [37 21  2  2  4  1 15  5  1]\n",
      " [31 27 24  3  2  2 15  5  1]]\n",
      "[[-0.01386364  0.42866296  1.7307197   0.06864586 -0.22462685  0.5661133\n",
      "   1.0659295   0.60011196]\n",
      " [-0.01386364  0.42866296  0.21140416  0.42736846 -0.27594805 -0.37568572\n",
      "  -0.15143362 -0.4403546 ]\n",
      " [-0.01386364  0.42866296 -0.6829698   0.27804297 -0.8507453  -0.37568572\n",
      "  -0.55722135 -1.0535754 ]\n",
      " [-0.3529194   0.42866296  0.2076698   0.14180042  0.64783335 -0.37568572\n",
      "   1.038877   -0.44287407]\n",
      " [-0.01386364  0.42866296  0.21140416  0.5349379  -0.27594805 -0.37568572\n",
      "  -0.68436813 -0.4403546 ]]\n",
      "[1.6 1.  1.  0.7 0.9]\n"
     ]
    }
   ],
   "source": [
    "(cat_x,cont_x),y = next(iter(data1.train_dl))\n",
    "for o in (cat_x, cont_x, y): print(to_np(o[:5]))"
   ]
  },
  {
   "cell_type": "markdown",
   "metadata": {},
   "source": [
    "After being processed in TabularDataset, the categorical variables are replaced by ids and the continuous variables are normalized. The codes corresponding to categorical variables are all put together, as are all the continuous variables."
   ]
  },
  {
   "cell_type": "code",
   "execution_count": 511,
   "metadata": {},
   "outputs": [],
   "source": [
    "learn1 = get_tabular_learner(data1, layers=[200,100])"
   ]
  },
  {
   "cell_type": "code",
   "execution_count": 512,
   "metadata": {},
   "outputs": [
    {
     "name": "stdout",
     "output_type": "stream",
     "text": [
      "LR Finder complete, type {learner_name}.recorder.plot() to see the graph.\n"
     ]
    }
   ],
   "source": [
    "learn1.lr_find()"
   ]
  },
  {
   "cell_type": "code",
   "execution_count": 513,
   "metadata": {},
   "outputs": [
    {
     "data": {
      "image/png": "[encoded data removed]",
      "text/plain": [
       "<Figure size 432x288 with 1 Axes>"
      ]
     },
     "metadata": {},
     "output_type": "display_data"
    }
   ],
   "source": [
    "learn1.recorder.plot()"
   ]
  },
  {
   "cell_type": "code",
   "execution_count": 535,
   "metadata": {},
   "outputs": [
    {
     "name": "stdout",
     "output_type": "stream",
     "text": [
      "Total time: 00:12\n",
      "epoch  train_loss  valid_loss\n",
      "1      0.045025    0.064692    (00:00)\n",
      "2      0.053423    0.095665    (00:00)\n",
      "3      0.055969    0.190731    (00:00)\n",
      "4      0.060575    0.074232    (00:00)\n",
      "5      0.062564    0.298316    (00:00)\n",
      "6      0.067734    0.186803    (00:00)\n",
      "7      0.070620    0.437669    (00:00)\n",
      "8      0.081173    0.509359    (00:00)\n",
      "9      0.079998    0.072969    (00:00)\n",
      "10     0.080350    0.532734    (00:00)\n",
      "11     0.082613    0.267794    (00:00)\n",
      "12     0.081521    0.142374    (00:00)\n",
      "13     0.084554    0.134580    (00:00)\n",
      "14     0.091030    0.114216    (00:00)\n",
      "15     0.087323    0.084003    (00:00)\n",
      "16     0.083359    0.141029    (00:00)\n",
      "17     0.078708    0.080007    (00:00)\n",
      "18     0.076185    0.172900    (00:00)\n",
      "19     0.071988    0.090164    (00:00)\n",
      "20     0.070031    0.090204    (00:00)\n",
      "21     0.066935    0.082064    (00:00)\n",
      "22     0.063770    0.058802    (00:00)\n",
      "23     0.061517    0.059763    (00:00)\n",
      "24     0.058758    0.062376    (00:00)\n",
      "25     0.054976    0.064813    (00:00)\n",
      "26     0.052953    0.063224    (00:00)\n",
      "27     0.049854    0.059902    (00:00)\n",
      "28     0.046834    0.058316    (00:00)\n",
      "29     0.045879    0.059414    (00:00)\n",
      "30     0.043694    0.058769    (00:00)\n",
      "\n"
     ]
    }
   ],
   "source": [
    "learn1.fit_one_cycle(30, 10e-2)"
   ]
  },
  {
   "cell_type": "markdown",
   "metadata": {},
   "source": [
    "The resulting trained data is then split into predictions and targets using the following function:"
   ]
  },
  {
   "cell_type": "code",
   "execution_count": 536,
   "metadata": {},
   "outputs": [],
   "source": [
    "pred1, targ1 = learn1.get_preds()"
   ]
  },
  {
   "cell_type": "code",
   "execution_count": 537,
   "metadata": {},
   "outputs": [
    {
     "data": {
      "text/plain": [
       "tensor([0.8532, 1.6860, 0.9351, 0.9210, 0.6641, 0.1717, 0.9210, 0.7316, 1.1116,\n",
       "        0.9405, 0.9210, 0.9118, 0.8687, 1.1020, 0.9034, 0.8358, 0.8614, 0.7897,\n",
       "        0.7796, 0.5220, 0.0785, 0.8905, 0.8613, 1.3771, 0.9210])"
      ]
     },
     "execution_count": 537,
     "metadata": {},
     "output_type": "execute_result"
    }
   ],
   "source": [
    "pred1"
   ]
  },
  {
   "cell_type": "code",
   "execution_count": 538,
   "metadata": {},
   "outputs": [
    {
     "data": {
      "text/plain": [
       "tensor([0.9500, 1.8000, 0.9000, 0.9000, 0.8000, 0.0300, 0.9000, 1.1000, 1.0000,\n",
       "        0.7000, 0.9000, 0.9000, 1.0000, 1.0000, 0.9500, 0.9500, 0.7000, 0.9000,\n",
       "        0.0700, 0.9000, 0.0200, 0.9000, 0.4000, 0.9500, 0.6500])"
      ]
     },
     "execution_count": 538,
     "metadata": {},
     "output_type": "execute_result"
    }
   ],
   "source": [
    "targ1"
   ]
  },
  {
   "cell_type": "markdown",
   "metadata": {},
   "source": [
    "In order to see a more comparable value the difference between the prediction and target values are calculated and the percentage accuracy displayed:"
   ]
  },
  {
   "cell_type": "code",
   "execution_count": 539,
   "metadata": {},
   "outputs": [],
   "source": [
    "diff1 = pred1-targ1"
   ]
  },
  {
   "cell_type": "code",
   "execution_count": 540,
   "metadata": {},
   "outputs": [
    {
     "data": {
      "text/plain": [
       "tensor([-0.0968, -0.1140,  0.0351,  0.0210, -0.1359,  0.1417,  0.0210, -0.3684,\n",
       "         0.1116,  0.2405,  0.0210,  0.0118, -0.1313,  0.1020, -0.0466, -0.1142,\n",
       "         0.1614, -0.1103,  0.7096, -0.3780,  0.0585, -0.0095,  0.4613,  0.4271,\n",
       "         0.2710])"
      ]
     },
     "execution_count": 540,
     "metadata": {},
     "output_type": "execute_result"
    }
   ],
   "source": [
    "diff1"
   ]
  },
  {
   "cell_type": "code",
   "execution_count": 541,
   "metadata": {},
   "outputs": [],
   "source": [
    "prct1 = targ1/pred1*100"
   ]
  },
  {
   "cell_type": "code",
   "execution_count": 542,
   "metadata": {},
   "outputs": [
    {
     "data": {
      "text/plain": [
       "tensor([111.3487, 106.7590,  96.2437,  97.7172, 120.4562,  17.4687,  97.7172,\n",
       "        150.3622,  89.9572,  74.4293,  97.7172,  98.7018, 115.1169,  90.7439,\n",
       "        105.1549, 113.6673,  81.2640, 113.9629,   8.9794, 172.4057,  25.4938,\n",
       "        101.0626,  46.4392,  68.9880,  70.5735])"
      ]
     },
     "execution_count": 542,
     "metadata": {},
     "output_type": "execute_result"
    }
   ],
   "source": [
    "prct1"
   ]
  },
  {
   "cell_type": "code",
   "execution_count": 543,
   "metadata": {},
   "outputs": [],
   "source": [
    "results1 = pd.DataFrame(data = np.column_stack((targ1.numpy(),pred1.numpy(),diff1.numpy(),prct1.numpy())), columns = [\"Targets1\",\"Predictions1\",\"Difference1\",\"Percentage1\"])"
   ]
  },
  {
   "cell_type": "code",
   "execution_count": 544,
   "metadata": {},
   "outputs": [
    {
     "data": {
      "text/html": [
       "<div>\n",
       "<style scoped>\n",
       "    .dataframe tbody tr th:only-of-type {\n",
       "        vertical-align: middle;\n",
       "    }\n",
       "\n",
       "    .dataframe tbody tr th {\n",
       "        vertical-align: top;\n",
       "    }\n",
       "\n",
       "    .dataframe thead th {\n",
       "        text-align: right;\n",
       "    }\n",
       "</style>\n",
       "<table border=\"1\" class=\"dataframe\">\n",
       "  <thead>\n",
       "    <tr style=\"text-align: right;\">\n",
       "      <th></th>\n",
       "      <th>Targets1</th>\n",
       "      <th>Predictions1</th>\n",
       "      <th>Difference1</th>\n",
       "      <th>Percentage1</th>\n",
       "    </tr>\n",
       "  </thead>\n",
       "  <tbody>\n",
       "    <tr>\n",
       "      <th>0</th>\n",
       "      <td>0.95</td>\n",
       "      <td>0.853176</td>\n",
       "      <td>-0.096824</td>\n",
       "      <td>111.348663</td>\n",
       "    </tr>\n",
       "    <tr>\n",
       "      <th>1</th>\n",
       "      <td>1.80</td>\n",
       "      <td>1.686040</td>\n",
       "      <td>-0.113960</td>\n",
       "      <td>106.759048</td>\n",
       "    </tr>\n",
       "    <tr>\n",
       "      <th>2</th>\n",
       "      <td>0.90</td>\n",
       "      <td>0.935127</td>\n",
       "      <td>0.035127</td>\n",
       "      <td>96.243652</td>\n",
       "    </tr>\n",
       "    <tr>\n",
       "      <th>3</th>\n",
       "      <td>0.90</td>\n",
       "      <td>0.921026</td>\n",
       "      <td>0.021026</td>\n",
       "      <td>97.717163</td>\n",
       "    </tr>\n",
       "    <tr>\n",
       "      <th>4</th>\n",
       "      <td>0.80</td>\n",
       "      <td>0.664142</td>\n",
       "      <td>-0.135858</td>\n",
       "      <td>120.456192</td>\n",
       "    </tr>\n",
       "    <tr>\n",
       "      <th>5</th>\n",
       "      <td>0.03</td>\n",
       "      <td>0.171735</td>\n",
       "      <td>0.141735</td>\n",
       "      <td>17.468746</td>\n",
       "    </tr>\n",
       "    <tr>\n",
       "      <th>6</th>\n",
       "      <td>0.90</td>\n",
       "      <td>0.921026</td>\n",
       "      <td>0.021026</td>\n",
       "      <td>97.717163</td>\n",
       "    </tr>\n",
       "    <tr>\n",
       "      <th>7</th>\n",
       "      <td>1.10</td>\n",
       "      <td>0.731567</td>\n",
       "      <td>-0.368433</td>\n",
       "      <td>150.362198</td>\n",
       "    </tr>\n",
       "    <tr>\n",
       "      <th>8</th>\n",
       "      <td>1.00</td>\n",
       "      <td>1.111640</td>\n",
       "      <td>0.111640</td>\n",
       "      <td>89.957169</td>\n",
       "    </tr>\n",
       "    <tr>\n",
       "      <th>9</th>\n",
       "      <td>0.70</td>\n",
       "      <td>0.940490</td>\n",
       "      <td>0.240490</td>\n",
       "      <td>74.429283</td>\n",
       "    </tr>\n",
       "    <tr>\n",
       "      <th>10</th>\n",
       "      <td>0.90</td>\n",
       "      <td>0.921026</td>\n",
       "      <td>0.021026</td>\n",
       "      <td>97.717163</td>\n",
       "    </tr>\n",
       "    <tr>\n",
       "      <th>11</th>\n",
       "      <td>0.90</td>\n",
       "      <td>0.911837</td>\n",
       "      <td>0.011837</td>\n",
       "      <td>98.701797</td>\n",
       "    </tr>\n",
       "    <tr>\n",
       "      <th>12</th>\n",
       "      <td>1.00</td>\n",
       "      <td>0.868682</td>\n",
       "      <td>-0.131318</td>\n",
       "      <td>115.116943</td>\n",
       "    </tr>\n",
       "    <tr>\n",
       "      <th>13</th>\n",
       "      <td>1.00</td>\n",
       "      <td>1.102002</td>\n",
       "      <td>0.102002</td>\n",
       "      <td>90.743927</td>\n",
       "    </tr>\n",
       "    <tr>\n",
       "      <th>14</th>\n",
       "      <td>0.95</td>\n",
       "      <td>0.903429</td>\n",
       "      <td>-0.046571</td>\n",
       "      <td>105.154922</td>\n",
       "    </tr>\n",
       "    <tr>\n",
       "      <th>15</th>\n",
       "      <td>0.95</td>\n",
       "      <td>0.835773</td>\n",
       "      <td>-0.114227</td>\n",
       "      <td>113.667259</td>\n",
       "    </tr>\n",
       "    <tr>\n",
       "      <th>16</th>\n",
       "      <td>0.70</td>\n",
       "      <td>0.861390</td>\n",
       "      <td>0.161390</td>\n",
       "      <td>81.263969</td>\n",
       "    </tr>\n",
       "    <tr>\n",
       "      <th>17</th>\n",
       "      <td>0.90</td>\n",
       "      <td>0.789730</td>\n",
       "      <td>-0.110270</td>\n",
       "      <td>113.962936</td>\n",
       "    </tr>\n",
       "    <tr>\n",
       "      <th>18</th>\n",
       "      <td>0.07</td>\n",
       "      <td>0.779561</td>\n",
       "      <td>0.709561</td>\n",
       "      <td>8.979418</td>\n",
       "    </tr>\n",
       "    <tr>\n",
       "      <th>19</th>\n",
       "      <td>0.90</td>\n",
       "      <td>0.522024</td>\n",
       "      <td>-0.377976</td>\n",
       "      <td>172.405731</td>\n",
       "    </tr>\n",
       "    <tr>\n",
       "      <th>20</th>\n",
       "      <td>0.02</td>\n",
       "      <td>0.078451</td>\n",
       "      <td>0.058451</td>\n",
       "      <td>25.493761</td>\n",
       "    </tr>\n",
       "    <tr>\n",
       "      <th>21</th>\n",
       "      <td>0.90</td>\n",
       "      <td>0.890537</td>\n",
       "      <td>-0.009463</td>\n",
       "      <td>101.062645</td>\n",
       "    </tr>\n",
       "    <tr>\n",
       "      <th>22</th>\n",
       "      <td>0.40</td>\n",
       "      <td>0.861342</td>\n",
       "      <td>0.461342</td>\n",
       "      <td>46.439159</td>\n",
       "    </tr>\n",
       "    <tr>\n",
       "      <th>23</th>\n",
       "      <td>0.95</td>\n",
       "      <td>1.377052</td>\n",
       "      <td>0.427052</td>\n",
       "      <td>68.987968</td>\n",
       "    </tr>\n",
       "    <tr>\n",
       "      <th>24</th>\n",
       "      <td>0.65</td>\n",
       "      <td>0.921026</td>\n",
       "      <td>0.271026</td>\n",
       "      <td>70.573502</td>\n",
       "    </tr>\n",
       "  </tbody>\n",
       "</table>\n",
       "</div>"
      ],
      "text/plain": [
       "    Targets1  Predictions1  Difference1  Percentage1\n",
       "0       0.95      0.853176    -0.096824   111.348663\n",
       "1       1.80      1.686040    -0.113960   106.759048\n",
       "2       0.90      0.935127     0.035127    96.243652\n",
       "3       0.90      0.921026     0.021026    97.717163\n",
       "4       0.80      0.664142    -0.135858   120.456192\n",
       "5       0.03      0.171735     0.141735    17.468746\n",
       "6       0.90      0.921026     0.021026    97.717163\n",
       "7       1.10      0.731567    -0.368433   150.362198\n",
       "8       1.00      1.111640     0.111640    89.957169\n",
       "9       0.70      0.940490     0.240490    74.429283\n",
       "10      0.90      0.921026     0.021026    97.717163\n",
       "11      0.90      0.911837     0.011837    98.701797\n",
       "12      1.00      0.868682    -0.131318   115.116943\n",
       "13      1.00      1.102002     0.102002    90.743927\n",
       "14      0.95      0.903429    -0.046571   105.154922\n",
       "15      0.95      0.835773    -0.114227   113.667259\n",
       "16      0.70      0.861390     0.161390    81.263969\n",
       "17      0.90      0.789730    -0.110270   113.962936\n",
       "18      0.07      0.779561     0.709561     8.979418\n",
       "19      0.90      0.522024    -0.377976   172.405731\n",
       "20      0.02      0.078451     0.058451    25.493761\n",
       "21      0.90      0.890537    -0.009463   101.062645\n",
       "22      0.40      0.861342     0.461342    46.439159\n",
       "23      0.95      1.377052     0.427052    68.987968\n",
       "24      0.65      0.921026     0.271026    70.573502"
      ]
     },
     "execution_count": 544,
     "metadata": {},
     "output_type": "execute_result"
    }
   ],
   "source": [
    "results1.head(25)"
   ]
  },
  {
   "cell_type": "markdown",
   "metadata": {},
   "source": [
    "### Dealing with New Categorical Variables"
   ]
  },
  {
   "cell_type": "markdown",
   "metadata": {},
   "source": [
    "It was desirable to feed two dependent variables into the deep learning network, however, fastai would not accept the two different variables in the one command, thus a second learning model was carried out."
   ]
  },
  {
   "cell_type": "code",
   "execution_count": 549,
   "metadata": {},
   "outputs": [],
   "source": [
    "dep_var2 = \"Time (hr)\"\n",
    "cat_names = [\"Code\", \"MF\", \"SMILES (Ligand)\", \"Substrate\", \"MF.1\", \"SMILES (Substrate)\", \"Solvent\", \"MF.2\", \"SMILES (Solvent)\"]"
   ]
  },
  {
   "cell_type": "markdown",
   "metadata": {},
   "source": [
    "## Machine Learning with the Second Dependent Variable"
   ]
  },
  {
   "cell_type": "code",
   "execution_count": 550,
   "metadata": {},
   "outputs": [],
   "source": [
    "tfms2 = [FillMissing, Categorify]"
   ]
  },
  {
   "cell_type": "code",
   "execution_count": 551,
   "metadata": {},
   "outputs": [],
   "source": [
    "data2 = TabularDataBunch.from_df(\"./tmp\", df_train, df_test, dep_var2, tfms=tfms2, cat_names=cat_names)"
   ]
  },
  {
   "cell_type": "code",
   "execution_count": 552,
   "metadata": {},
   "outputs": [
    {
     "name": "stdout",
     "output_type": "stream",
     "text": [
      "['Temperature ©', 'H2 Equivalence', 'Catalyst Percentage (%)', 'Mol Catalyst', 'MW', 'Substrate Weight (g)', 'Solvent Volume (mL)', 'Mol Substrate']\n"
     ]
    }
   ],
   "source": [
    "print(data2.train_ds.cont_names)"
   ]
  },
  {
   "cell_type": "code",
   "execution_count": 553,
   "metadata": {},
   "outputs": [],
   "source": [
    "learn2 = get_tabular_learner(data2, layers=[200,100])"
   ]
  },
  {
   "cell_type": "code",
   "execution_count": 554,
   "metadata": {},
   "outputs": [
    {
     "name": "stdout",
     "output_type": "stream",
     "text": [
      "LR Finder complete, type {learner_name}.recorder.plot() to see the graph.\n"
     ]
    }
   ],
   "source": [
    "learn2.lr_find()"
   ]
  },
  {
   "cell_type": "code",
   "execution_count": 555,
   "metadata": {},
   "outputs": [
    {
     "data": {
      "image/png": "[encoded data removed]",
      "text/plain": [
       "<Figure size 432x288 with 1 Axes>"
      ]
     },
     "metadata": {},
     "output_type": "display_data"
    }
   ],
   "source": [
    "learn2.recorder.plot()"
   ]
  },
  {
   "cell_type": "code",
   "execution_count": 556,
   "metadata": {},
   "outputs": [
    {
     "name": "stdout",
     "output_type": "stream",
     "text": [
      "Total time: 00:11\n",
      "epoch  train_loss  valid_loss   \n",
      "1      1790.486328  1323.203613   (00:00)\n",
      "2      1479.766846  7536.454590   (00:00)\n",
      "3      1232.348022  6070.047363   (00:00)\n",
      "4      1101.435059  17417.431641  (00:00)\n",
      "5      1036.792358  7230.678223   (00:00)\n",
      "6      953.389099  2538.948486    (00:00)\n",
      "7      885.160217  3573.461670    (00:00)\n",
      "8      819.601257  1460.932373    (00:00)\n",
      "9      775.333496  2929.767822    (00:00)\n",
      "10     751.957214  3875.474121    (00:00)\n",
      "11     734.977051  3549.478027    (00:00)\n",
      "12     710.032166  2427.880615    (00:00)\n",
      "13     707.215637  2040.497070    (00:00)\n",
      "14     680.707153  2847.148438    (00:00)\n",
      "15     662.840393  1859.615723    (00:00)\n",
      "16     634.722839  1727.209229    (00:00)\n",
      "17     619.127136  1413.118408    (00:00)\n",
      "18     588.242188  1427.446411    (00:00)\n",
      "19     569.039429  1621.143311    (00:00)\n",
      "20     547.363647  1548.120728    (00:00)\n",
      "21     527.111511  1236.032227    (00:00)\n",
      "22     508.078156  1563.067871    (00:00)\n",
      "23     483.964020  1426.672363    (00:00)\n",
      "24     460.565735  1467.187988    (00:00)\n",
      "25     446.979523  1687.837769    (00:00)\n",
      "26     423.148468  1636.430664    (00:00)\n",
      "27     404.057190  1662.171509    (00:00)\n",
      "28     387.709839  1717.923096    (00:00)\n",
      "29     369.700470  1699.299316    (00:00)\n",
      "30     351.356781  1690.964355    (00:00)\n",
      "\n"
     ]
    }
   ],
   "source": [
    "learn2.fit_one_cycle(30, 10e-1)"
   ]
  },
  {
   "cell_type": "code",
   "execution_count": 557,
   "metadata": {},
   "outputs": [],
   "source": [
    "pred2, targ2 = learn2.get_preds()"
   ]
  },
  {
   "cell_type": "code",
   "execution_count": 558,
   "metadata": {},
   "outputs": [
    {
     "data": {
      "text/plain": [
       "tensor([  4.6602,   8.3977,   4.5392,   4.0984,  39.0970,  98.1196,   4.0984,\n",
       "         61.3060,  46.1462,   8.7469,   4.0984,   0.7835,   3.8263,  47.6239,\n",
       "          2.6324,  27.9889, 107.1602,  -4.9115,  71.0817,  38.5141, 103.6562,\n",
       "         71.6540,  11.4825, 101.0366,   4.5567])"
      ]
     },
     "execution_count": 558,
     "metadata": {},
     "output_type": "execute_result"
    }
   ],
   "source": [
    "pred2"
   ]
  },
  {
   "cell_type": "code",
   "execution_count": 559,
   "metadata": {},
   "outputs": [
    {
     "data": {
      "text/plain": [
       "tensor([  2.0000,  10.0000,   1.0000,   0.3000,  30.0000, 200.0000,   0.3000,\n",
       "         60.0000,  20.0000,   6.0000,   0.3000,   0.0400,   8.0000,   1.3000,\n",
       "          2.0000,   2.0000,  20.0000,   0.0400,  20.0000,  54.0000,  20.0000,\n",
       "          0.7000,  26.0000,  27.0000,   0.3000])"
      ]
     },
     "execution_count": 559,
     "metadata": {},
     "output_type": "execute_result"
    }
   ],
   "source": [
    "targ2"
   ]
  },
  {
   "cell_type": "code",
   "execution_count": 560,
   "metadata": {},
   "outputs": [],
   "source": [
    "diff2 = pred2-targ2"
   ]
  },
  {
   "cell_type": "code",
   "execution_count": 561,
   "metadata": {},
   "outputs": [
    {
     "data": {
      "text/plain": [
       "tensor([   2.6602,   -1.6023,    3.5392,    3.7984,    9.0970, -101.8804,\n",
       "           3.7984,    1.3060,   26.1462,    2.7469,    3.7984,    0.7435,\n",
       "          -4.1737,   46.3239,    0.6324,   25.9889,   87.1602,   -4.9515,\n",
       "          51.0817,  -15.4859,   83.6562,   70.9540,  -14.5175,   74.0366,\n",
       "           4.2567])"
      ]
     },
     "execution_count": 561,
     "metadata": {},
     "output_type": "execute_result"
    }
   ],
   "source": [
    "diff2"
   ]
  },
  {
   "cell_type": "code",
   "execution_count": 562,
   "metadata": {},
   "outputs": [],
   "source": [
    "prct2 = targ2/pred2*100"
   ]
  },
  {
   "cell_type": "code",
   "execution_count": 563,
   "metadata": {},
   "outputs": [
    {
     "data": {
      "text/plain": [
       "tensor([ 42.9165, 119.0796,  22.0303,   7.3200,  76.7323, 203.8329,   7.3200,\n",
       "         97.8696,  43.3405,  68.5959,   7.3200,   5.1053, 209.0802,   2.7297,\n",
       "         75.9770,   7.1457,  18.6636,  -0.8144,  28.1366, 140.2083,  19.2946,\n",
       "          0.9769, 226.4321,  26.7230,   6.5837])"
      ]
     },
     "execution_count": 563,
     "metadata": {},
     "output_type": "execute_result"
    }
   ],
   "source": [
    "prct2"
   ]
  },
  {
   "cell_type": "code",
   "execution_count": 564,
   "metadata": {},
   "outputs": [],
   "source": [
    "results2 = pd.DataFrame(data = np.column_stack((targ2.numpy(),pred2.numpy(),diff2.numpy(),prct2.numpy())), columns = [\"Targets2\",\"Predictions2\",\"Difference2\",\"Percentage2\"])"
   ]
  },
  {
   "cell_type": "code",
   "execution_count": 565,
   "metadata": {},
   "outputs": [
    {
     "data": {
      "text/html": [
       "<div>\n",
       "<style scoped>\n",
       "    .dataframe tbody tr th:only-of-type {\n",
       "        vertical-align: middle;\n",
       "    }\n",
       "\n",
       "    .dataframe tbody tr th {\n",
       "        vertical-align: top;\n",
       "    }\n",
       "\n",
       "    .dataframe thead th {\n",
       "        text-align: right;\n",
       "    }\n",
       "</style>\n",
       "<table border=\"1\" class=\"dataframe\">\n",
       "  <thead>\n",
       "    <tr style=\"text-align: right;\">\n",
       "      <th></th>\n",
       "      <th>Targets2</th>\n",
       "      <th>Predictions2</th>\n",
       "      <th>Difference2</th>\n",
       "      <th>Percentage2</th>\n",
       "    </tr>\n",
       "  </thead>\n",
       "  <tbody>\n",
       "    <tr>\n",
       "      <th>0</th>\n",
       "      <td>2.00</td>\n",
       "      <td>4.660213</td>\n",
       "      <td>2.660213</td>\n",
       "      <td>42.916496</td>\n",
       "    </tr>\n",
       "    <tr>\n",
       "      <th>1</th>\n",
       "      <td>10.00</td>\n",
       "      <td>8.397741</td>\n",
       "      <td>-1.602259</td>\n",
       "      <td>119.079636</td>\n",
       "    </tr>\n",
       "    <tr>\n",
       "      <th>2</th>\n",
       "      <td>1.00</td>\n",
       "      <td>4.539211</td>\n",
       "      <td>3.539211</td>\n",
       "      <td>22.030262</td>\n",
       "    </tr>\n",
       "    <tr>\n",
       "      <th>3</th>\n",
       "      <td>0.30</td>\n",
       "      <td>4.098351</td>\n",
       "      <td>3.798351</td>\n",
       "      <td>7.320018</td>\n",
       "    </tr>\n",
       "    <tr>\n",
       "      <th>4</th>\n",
       "      <td>30.00</td>\n",
       "      <td>39.096977</td>\n",
       "      <td>9.096977</td>\n",
       "      <td>76.732269</td>\n",
       "    </tr>\n",
       "    <tr>\n",
       "      <th>5</th>\n",
       "      <td>200.00</td>\n",
       "      <td>98.119583</td>\n",
       "      <td>-101.880417</td>\n",
       "      <td>203.832916</td>\n",
       "    </tr>\n",
       "    <tr>\n",
       "      <th>6</th>\n",
       "      <td>0.30</td>\n",
       "      <td>4.098351</td>\n",
       "      <td>3.798351</td>\n",
       "      <td>7.320018</td>\n",
       "    </tr>\n",
       "    <tr>\n",
       "      <th>7</th>\n",
       "      <td>60.00</td>\n",
       "      <td>61.306046</td>\n",
       "      <td>1.306046</td>\n",
       "      <td>97.869629</td>\n",
       "    </tr>\n",
       "    <tr>\n",
       "      <th>8</th>\n",
       "      <td>20.00</td>\n",
       "      <td>46.146233</td>\n",
       "      <td>26.146233</td>\n",
       "      <td>43.340485</td>\n",
       "    </tr>\n",
       "    <tr>\n",
       "      <th>9</th>\n",
       "      <td>6.00</td>\n",
       "      <td>8.746873</td>\n",
       "      <td>2.746873</td>\n",
       "      <td>68.595947</td>\n",
       "    </tr>\n",
       "    <tr>\n",
       "      <th>10</th>\n",
       "      <td>0.30</td>\n",
       "      <td>4.098351</td>\n",
       "      <td>3.798351</td>\n",
       "      <td>7.320018</td>\n",
       "    </tr>\n",
       "    <tr>\n",
       "      <th>11</th>\n",
       "      <td>0.04</td>\n",
       "      <td>0.783506</td>\n",
       "      <td>0.743506</td>\n",
       "      <td>5.105259</td>\n",
       "    </tr>\n",
       "    <tr>\n",
       "      <th>12</th>\n",
       "      <td>8.00</td>\n",
       "      <td>3.826282</td>\n",
       "      <td>-4.173718</td>\n",
       "      <td>209.080246</td>\n",
       "    </tr>\n",
       "    <tr>\n",
       "      <th>13</th>\n",
       "      <td>1.30</td>\n",
       "      <td>47.623917</td>\n",
       "      <td>46.323917</td>\n",
       "      <td>2.729721</td>\n",
       "    </tr>\n",
       "    <tr>\n",
       "      <th>14</th>\n",
       "      <td>2.00</td>\n",
       "      <td>2.632374</td>\n",
       "      <td>0.632374</td>\n",
       "      <td>75.977036</td>\n",
       "    </tr>\n",
       "    <tr>\n",
       "      <th>15</th>\n",
       "      <td>2.00</td>\n",
       "      <td>27.988947</td>\n",
       "      <td>25.988947</td>\n",
       "      <td>7.145678</td>\n",
       "    </tr>\n",
       "    <tr>\n",
       "      <th>16</th>\n",
       "      <td>20.00</td>\n",
       "      <td>107.160240</td>\n",
       "      <td>87.160240</td>\n",
       "      <td>18.663639</td>\n",
       "    </tr>\n",
       "    <tr>\n",
       "      <th>17</th>\n",
       "      <td>0.04</td>\n",
       "      <td>-4.911507</td>\n",
       "      <td>-4.951507</td>\n",
       "      <td>-0.814414</td>\n",
       "    </tr>\n",
       "    <tr>\n",
       "      <th>18</th>\n",
       "      <td>20.00</td>\n",
       "      <td>71.081703</td>\n",
       "      <td>51.081703</td>\n",
       "      <td>28.136635</td>\n",
       "    </tr>\n",
       "    <tr>\n",
       "      <th>19</th>\n",
       "      <td>54.00</td>\n",
       "      <td>38.514130</td>\n",
       "      <td>-15.485870</td>\n",
       "      <td>140.208282</td>\n",
       "    </tr>\n",
       "    <tr>\n",
       "      <th>20</th>\n",
       "      <td>20.00</td>\n",
       "      <td>103.656189</td>\n",
       "      <td>83.656189</td>\n",
       "      <td>19.294554</td>\n",
       "    </tr>\n",
       "    <tr>\n",
       "      <th>21</th>\n",
       "      <td>0.70</td>\n",
       "      <td>71.654007</td>\n",
       "      <td>70.954010</td>\n",
       "      <td>0.976917</td>\n",
       "    </tr>\n",
       "    <tr>\n",
       "      <th>22</th>\n",
       "      <td>26.00</td>\n",
       "      <td>11.482473</td>\n",
       "      <td>-14.517527</td>\n",
       "      <td>226.432068</td>\n",
       "    </tr>\n",
       "    <tr>\n",
       "      <th>23</th>\n",
       "      <td>27.00</td>\n",
       "      <td>101.036591</td>\n",
       "      <td>74.036591</td>\n",
       "      <td>26.722992</td>\n",
       "    </tr>\n",
       "    <tr>\n",
       "      <th>24</th>\n",
       "      <td>0.30</td>\n",
       "      <td>4.556684</td>\n",
       "      <td>4.256684</td>\n",
       "      <td>6.583735</td>\n",
       "    </tr>\n",
       "  </tbody>\n",
       "</table>\n",
       "</div>"
      ],
      "text/plain": [
       "    Targets2  Predictions2  Difference2  Percentage2\n",
       "0       2.00      4.660213     2.660213    42.916496\n",
       "1      10.00      8.397741    -1.602259   119.079636\n",
       "2       1.00      4.539211     3.539211    22.030262\n",
       "3       0.30      4.098351     3.798351     7.320018\n",
       "4      30.00     39.096977     9.096977    76.732269\n",
       "5     200.00     98.119583  -101.880417   203.832916\n",
       "6       0.30      4.098351     3.798351     7.320018\n",
       "7      60.00     61.306046     1.306046    97.869629\n",
       "8      20.00     46.146233    26.146233    43.340485\n",
       "9       6.00      8.746873     2.746873    68.595947\n",
       "10      0.30      4.098351     3.798351     7.320018\n",
       "11      0.04      0.783506     0.743506     5.105259\n",
       "12      8.00      3.826282    -4.173718   209.080246\n",
       "13      1.30     47.623917    46.323917     2.729721\n",
       "14      2.00      2.632374     0.632374    75.977036\n",
       "15      2.00     27.988947    25.988947     7.145678\n",
       "16     20.00    107.160240    87.160240    18.663639\n",
       "17      0.04     -4.911507    -4.951507    -0.814414\n",
       "18     20.00     71.081703    51.081703    28.136635\n",
       "19     54.00     38.514130   -15.485870   140.208282\n",
       "20     20.00    103.656189    83.656189    19.294554\n",
       "21      0.70     71.654007    70.954010     0.976917\n",
       "22     26.00     11.482473   -14.517527   226.432068\n",
       "23     27.00    101.036591    74.036591    26.722992\n",
       "24      0.30      4.556684     4.256684     6.583735"
      ]
     },
     "execution_count": 565,
     "metadata": {},
     "output_type": "execute_result"
    }
   ],
   "source": [
    "results2.head(25)"
   ]
  },
  {
   "cell_type": "markdown",
   "metadata": {},
   "source": [
    "## Conclusions"
   ]
  },
  {
   "cell_type": "markdown",
   "metadata": {},
   "source": [
    "From the initial results, the findings using this particular data set suggest a promising start for deep learning in this area of chemistry. The first dependent variable \"H2 Equivalence\" was predicted considerably more accurately in contrast to the second dependent variable \"Time (hr)\". This is more than likely due to the smaller values associated with the first dependent variable, returning 56% prediction accuracy (where the value for 'percentage1' is within 10% of 100). As for the second dependent variable, the large differences in values for \"Time (hr)\" result in a significantly lower prediction accuracy, where only 2 of the returned values were within the desired range.\n",
    "\n",
    "While this is a good start, the prediction accuracy needs to be improved considerably. This could be achieved with a much larger data set, as the current information is more than likely too small with not enough variations. However, if this does not improve the prediction accuracy it is possible that the model is being underfit and an alternate machine learning method may need to be used.\n",
    "\n",
    "While the ultimate goal mentioned in the introduction is a long way from being achieved, the first steps have been taken and initial results would suggest that it is definitely possible. A singificant amount of further knowledge is required in order to achieve this long term goal, which would not only accelerate this area of chemistry but also completely change the field as we know it.    "
   ]
  }
 ],
 "metadata": {
  "kernelspec": {
   "display_name": "Python 3",
   "language": "python",
   "name": "python3"
  },
  "language_info": {
   "codemirror_mode": {
    "name": "ipython",
    "version": 3
   },
   "file_extension": ".py",
   "mimetype": "text/x-python",
   "name": "python",
   "nbconvert_exporter": "python",
   "pygments_lexer": "ipython3",
   "version": "3.7.0"
  }
 },
 "nbformat": 4,
 "nbformat_minor": 2
}
